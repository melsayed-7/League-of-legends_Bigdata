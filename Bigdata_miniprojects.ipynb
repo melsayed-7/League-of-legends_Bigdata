{
  "nbformat": 4,
  "nbformat_minor": 0,
  "metadata": {
    "colab": {
      "name": "Bigdata_miniprojects.ipynb",
      "provenance": [],
      "collapsed_sections": [],
      "mount_file_id": "1-FVV_6eqEMrnoF0hIdAja5HvF9IEapeZ",
      "authorship_tag": "ABX9TyPbrIBggnzoP7lKLyTcYTNT",
      "include_colab_link": true
    },
    "kernelspec": {
      "name": "python3",
      "display_name": "Python 3"
    }
  },
  "cells": [
    {
      "cell_type": "markdown",
      "metadata": {
        "id": "view-in-github",
        "colab_type": "text"
      },
      "source": [
        "<a href=\"https://colab.research.google.com/github/moustafa-7/League-of-legends_Bigdata/blob/main/Bigdata_miniprojects.ipynb\" target=\"_parent\"><img src=\"https://colab.research.google.com/assets/colab-badge.svg\" alt=\"Open In Colab\"/></a>"
      ]
    },
    {
      "cell_type": "code",
      "metadata": {
        "id": "efV4b2R-CB-r"
      },
      "source": [
        "!apt-get install openjdk-8-jdk-headless -qq > /dev/null\n",
        "!wget -q https://www-us.apache.org/dist/spark/spark-2.4.7/spark-2.4.7-bin-hadoop2.7.tgz\n",
        "!tar xf spark-2.4.7-bin-hadoop2.7.tgz\n",
        "!pip install -q findspark"
      ],
      "execution_count": 1,
      "outputs": []
    },
    {
      "cell_type": "code",
      "metadata": {
        "id": "9CHOl8PuLabq"
      },
      "source": [
        "import os\n",
        "os.environ[\"JAVA_HOME\"] = \"/usr/lib/jvm/java-8-openjdk-amd64\"\n",
        "os.environ[\"SPARK_HOME\"] = \"/content/spark-2.4.7-bin-hadoop2.7\""
      ],
      "execution_count": 2,
      "outputs": []
    },
    {
      "cell_type": "code",
      "metadata": {
        "id": "ENBLw1XtLnvv"
      },
      "source": [
        "import findspark\n",
        "findspark.init()\n",
        "import pyspark\n",
        "import random"
      ],
      "execution_count": 28,
      "outputs": []
    },
    {
      "cell_type": "code",
      "metadata": {
        "id": "aCVCiDASLqHZ"
      },
      "source": [
        "from pyspark.sql import SparkSession\n",
        "spark = SparkSession.builder.appName(\"LOL\").getOrCreate()\n",
        "sc = spark.sparkContext\n",
        "d = spark.read.json(\"drive/MyDrive/small_matches.json\", multiLine=True)"
      ],
      "execution_count": 29,
      "outputs": []
    },
    {
      "cell_type": "code",
      "metadata": {
        "id": "eg4s-w4RFAFK"
      },
      "source": [
        "no_matches = d.count()"
      ],
      "execution_count": 30,
      "outputs": []
    },
    {
      "cell_type": "markdown",
      "metadata": {
        "id": "edH25QDq0KTD"
      },
      "source": [
        "## 1. Champions win - pick - ban rates"
      ]
    },
    {
      "cell_type": "code",
      "metadata": {
        "id": "7a_SJ2x9Z8IP"
      },
      "source": [
        "def champions(row):\n",
        "  c = []\n",
        "  bans = []\n",
        "  for p in row[\"participants\"]:\n",
        "    if(p[\"teamId\"] == \"Blue\"): team_number = 0\n",
        "    else: team_number = 1\n",
        "    c.append((p[\"championId\"], row[\"teams\"][team_number][\"win\"]))\n",
        "  \n",
        "  for t in row[\"teams\"]:\n",
        "    for b in t[\"bans\"]:\n",
        "      if(b[\"championId\"] != None):\n",
        "        c.append((b[\"championId\"],\"ban\"))\n",
        "      # else:\n",
        "      #   c.append((b[\"championid\"],\"ban\"))\n",
        "\n",
        "  return c"
      ],
      "execution_count": 31,
      "outputs": []
    },
    {
      "cell_type": "code",
      "metadata": {
        "id": "q5Ij34C0Ewrn"
      },
      "source": [
        "champions = d.rdd.flatMap(champions)"
      ],
      "execution_count": 32,
      "outputs": []
    },
    {
      "cell_type": "code",
      "metadata": {
        "id": "pRJo0IkAE8kL"
      },
      "source": [
        "import time\n",
        "def lookup(champions):\n",
        "  for c in champions.collect():\n",
        "    print(c)\n",
        "    time.sleep(0.1)"
      ],
      "execution_count": 33,
      "outputs": []
    },
    {
      "cell_type": "code",
      "metadata": {
        "id": "3Ir0KLpzz-8Z"
      },
      "source": [
        "by_champion = champions.groupByKey().mapValues(list)"
      ],
      "execution_count": 34,
      "outputs": []
    },
    {
      "cell_type": "code",
      "metadata": {
        "id": "dtcfnrZh8ADx"
      },
      "source": [
        "# for c, val in by_champion.collect():\n",
        "#     print(c,val)\n",
        "#     time.sleep(0.1)"
      ],
      "execution_count": 35,
      "outputs": []
    },
    {
      "cell_type": "code",
      "metadata": {
        "id": "YbhfkgpI6R3A"
      },
      "source": [
        "def compute_champion_rates(val):\n",
        "    ban_count = val.count(\"ban\")\n",
        "    win_count = val.count(\"Win\")\n",
        "    lose_count = val.count(\"Fail\")\n",
        "    total_played_games = win_count+lose_count\n",
        "    if(total_played_games):\n",
        "      return [ban_count/no_matches, win_count/total_played_games, lose_count/total_played_games]\n",
        "    else:\n",
        "      return [ban_count/no_matches, \"never_played\", \"never_played\"]"
      ],
      "execution_count": 36,
      "outputs": []
    },
    {
      "cell_type": "code",
      "metadata": {
        "id": "gRK6ZBxY4uuo"
      },
      "source": [
        "win_pick_ban_rates = by_champion.map(lambda x:(x[0], compute_champion_rates(x[1])))"
      ],
      "execution_count": 37,
      "outputs": []
    },
    {
      "cell_type": "code",
      "metadata": {
        "id": "jTyiBqkz9Qt2"
      },
      "source": [
        "# for c in win_pick_ban_rates.collect():\n",
        "#     print(c)\n",
        "#     time.sleep(0.1)"
      ],
      "execution_count": null,
      "outputs": []
    },
    {
      "cell_type": "markdown",
      "metadata": {
        "id": "bQIIRWMlwYmC"
      },
      "source": [
        "## 2. Item Win - pick rates"
      ]
    },
    {
      "cell_type": "code",
      "metadata": {
        "id": "ThDWXB8UwXt_"
      },
      "source": [
        "def get_items(row):\n",
        "  c = []\n",
        "  bans = []\n",
        "  for p in row[\"participants\"]:\n",
        "    for i in range(7):\n",
        "      c.append((p[\"stats\"][\"item\"+str(i)][\"name\"], p[\"stats\"][\"win\"]))\n",
        "  return c"
      ],
      "execution_count": 86,
      "outputs": []
    },
    {
      "cell_type": "code",
      "metadata": {
        "id": "apH4Q5SP9WS_"
      },
      "source": [
        "items = d.rdd.flatMap(get_items).groupByKey().mapValues(list)"
      ],
      "execution_count": 87,
      "outputs": []
    },
    {
      "cell_type": "code",
      "metadata": {
        "colab": {
          "base_uri": "https://localhost:8080/"
        },
        "id": "iM7JDNu7yI4P",
        "outputId": "ca9d3cc8-7f0a-400d-94bf-1780fb75dece"
      },
      "source": [
        "\n",
        "print(len(items.collect()))"
      ],
      "execution_count": 88,
      "outputs": [
        {
          "output_type": "stream",
          "text": [
            "190\n"
          ],
          "name": "stdout"
        }
      ]
    },
    {
      "cell_type": "code",
      "metadata": {
        "id": "TjHFf3X8yXGJ"
      },
      "source": [
        "def compute_item_rates(val):\n",
        "  win_count = val.count(True)\n",
        "  lose_count = val.count(False)\n",
        "  total_played_games = win_count+lose_count\n",
        "  return [win_count/total_played_games, len(val)/no_matches]"
      ],
      "execution_count": 94,
      "outputs": []
    },
    {
      "cell_type": "code",
      "metadata": {
        "id": "PDp0aw2M44xx"
      },
      "source": [
        "item_rates = items.map(lambda x:(x[0], compute_item_rates(x[1])))"
      ],
      "execution_count": 95,
      "outputs": []
    },
    {
      "cell_type": "code",
      "metadata": {
        "id": "fEaeAQht5HD2"
      },
      "source": [
        "print(\"item       win_rate        pick_rate\")\n",
        "for item in item_rates.collect():\n",
        "    print(item)\n",
        "    time.sleep(0.01)"
      ],
      "execution_count": null,
      "outputs": []
    },
    {
      "cell_type": "code",
      "metadata": {
        "id": "jibgejzj5KZx"
      },
      "source": [
        ""
      ],
      "execution_count": null,
      "outputs": []
    }
  ]
}