{
  "nbformat": 4,
  "nbformat_minor": 0,
  "metadata": {
    "colab": {
      "name": "Bigdata_miniprojects.ipynb",
      "provenance": [],
      "collapsed_sections": [],
      "toc_visible": true,
      "mount_file_id": "1-FVV_6eqEMrnoF0hIdAja5HvF9IEapeZ",
      "authorship_tag": "ABX9TyMAZK9Z50bpmBwsuzbdhmuW",
      "include_colab_link": true
    },
    "kernelspec": {
      "name": "python3",
      "display_name": "Python 3"
    }
  },
  "cells": [
    {
      "cell_type": "markdown",
      "metadata": {
        "id": "view-in-github",
        "colab_type": "text"
      },
      "source": [
        "<a href=\"https://colab.research.google.com/github/moustafa-7/League-of-legends_Bigdata/blob/main/Bigdata_miniprojects.ipynb\" target=\"_parent\"><img src=\"https://colab.research.google.com/assets/colab-badge.svg\" alt=\"Open In Colab\"/></a>"
      ]
    },
    {
      "cell_type": "code",
      "metadata": {
        "id": "efV4b2R-CB-r"
      },
      "source": [
        "!apt-get install openjdk-8-jdk-headless -qq > /dev/null\n",
        "!wget -q https://www-us.apache.org/dist/spark/spark-2.4.7/spark-2.4.7-bin-hadoop2.7.tgz\n",
        "!tar xf spark-2.4.7-bin-hadoop2.7.tgz\n",
        "!pip install -q findspark"
      ],
      "execution_count": 1,
      "outputs": []
    },
    {
      "cell_type": "code",
      "metadata": {
        "id": "9CHOl8PuLabq"
      },
      "source": [
        "import os\n",
        "os.environ[\"JAVA_HOME\"] = \"/usr/lib/jvm/java-8-openjdk-amd64\"\n",
        "os.environ[\"SPARK_HOME\"] = \"/content/spark-2.4.7-bin-hadoop2.7\""
      ],
      "execution_count": 2,
      "outputs": []
    },
    {
      "cell_type": "code",
      "metadata": {
        "id": "ENBLw1XtLnvv"
      },
      "source": [
        "import findspark\n",
        "findspark.init()\n",
        "import pyspark\n",
        "import random"
      ],
      "execution_count": 3,
      "outputs": []
    },
    {
      "cell_type": "code",
      "metadata": {
        "id": "aCVCiDASLqHZ"
      },
      "source": [
        "from pyspark.sql import SparkSession\n",
        "spark = SparkSession.builder.appName(\"LOL\").getOrCreate()\n",
        "sc = spark.sparkContext\n",
        "d = spark.read.json(\"drive/MyDrive/small_matches.json\", multiLine=True)"
      ],
      "execution_count": 7,
      "outputs": []
    },
    {
      "cell_type": "code",
      "metadata": {
        "id": "eg4s-w4RFAFK"
      },
      "source": [
        "no_matches = d.count()"
      ],
      "execution_count": 8,
      "outputs": []
    },
    {
      "cell_type": "markdown",
      "metadata": {
        "id": "edH25QDq0KTD"
      },
      "source": [
        "## 1. Champions win - pick - ban rates"
      ]
    },
    {
      "cell_type": "code",
      "metadata": {
        "id": "7a_SJ2x9Z8IP"
      },
      "source": [
        "def champions(row):\n",
        "  c = []\n",
        "  bans = []\n",
        "  for p in row[\"participants\"]:\n",
        "    if(p[\"teamId\"] == \"Blue\"): team_number = 0\n",
        "    else: team_number = 1\n",
        "    c.append((p[\"championId\"], row[\"teams\"][team_number][\"win\"]))\n",
        "  \n",
        "  for t in row[\"teams\"]:\n",
        "    for b in t[\"bans\"]:\n",
        "      if(b[\"championId\"] != None):\n",
        "        c.append((b[\"championId\"],\"ban\"))\n",
        "      # else:\n",
        "      #   c.append((b[\"championid\"],\"ban\"))\n",
        "\n",
        "  return c"
      ],
      "execution_count": 9,
      "outputs": []
    },
    {
      "cell_type": "code",
      "metadata": {
        "id": "q5Ij34C0Ewrn"
      },
      "source": [
        "champions = d.rdd.flatMap(champions)"
      ],
      "execution_count": 10,
      "outputs": []
    },
    {
      "cell_type": "code",
      "metadata": {
        "id": "pRJo0IkAE8kL"
      },
      "source": [
        "import time\n",
        "def lookup(champions):\n",
        "  for c in champions.collect():\n",
        "    print(c)\n",
        "    time.sleep(0.1)"
      ],
      "execution_count": 11,
      "outputs": []
    },
    {
      "cell_type": "code",
      "metadata": {
        "id": "3Ir0KLpzz-8Z"
      },
      "source": [
        "by_champion = champions.groupByKey().mapValues(list)"
      ],
      "execution_count": 12,
      "outputs": []
    },
    {
      "cell_type": "code",
      "metadata": {
        "id": "dtcfnrZh8ADx"
      },
      "source": [
        "# for c, val in by_champion.collect():\n",
        "#     print(c,val)\n",
        "#     time.sleep(0.1)"
      ],
      "execution_count": 13,
      "outputs": []
    },
    {
      "cell_type": "code",
      "metadata": {
        "id": "YbhfkgpI6R3A"
      },
      "source": [
        "def compute_champion_rates(val):\n",
        "    ban_count = val.count(\"ban\")\n",
        "    win_count = val.count(\"Win\")\n",
        "    lose_count = val.count(\"Fail\")\n",
        "    total_played_games = win_count+lose_count\n",
        "    if(total_played_games):\n",
        "      return [ban_count/no_matches, win_count/total_played_games, lose_count/total_played_games]\n",
        "    else:\n",
        "      return [ban_count/no_matches, \"never_played\", \"never_played\"]"
      ],
      "execution_count": 14,
      "outputs": []
    },
    {
      "cell_type": "code",
      "metadata": {
        "id": "gRK6ZBxY4uuo"
      },
      "source": [
        "win_pick_ban_rates = by_champion.map(lambda x:(x[0], compute_champion_rates(x[1])))"
      ],
      "execution_count": 15,
      "outputs": []
    },
    {
      "cell_type": "code",
      "metadata": {
        "id": "jTyiBqkz9Qt2"
      },
      "source": [
        "for c in win_pick_ban_rates.collect():\n",
        "    print(c)\n",
        "    time.sleep(0.1)"
      ],
      "execution_count": null,
      "outputs": []
    },
    {
      "cell_type": "markdown",
      "metadata": {
        "id": "9Uqvpdqt8-0y"
      },
      "source": [
        "## 2. Champion Synergies or Duos"
      ]
    },
    {
      "cell_type": "code",
      "metadata": {
        "id": "yvcwBTEkGiYA"
      },
      "source": [
        "import itertools\n",
        "def champion_duos(row):\n",
        "  duos = []\n",
        "  team1 = []\n",
        "  team2 = []\n",
        "  is_team1_win = False\n",
        "  is_team2_win = False\n",
        "  for p in row[\"participants\"]:\n",
        "    if(p[\"teamId\"] == \"Blue\"): \n",
        "      team_number = 0\n",
        "    else: \n",
        "      team_number = 1\n",
        "    \n",
        "    if(team_number == 0):\n",
        "      team1.append(p[\"championId\"])\n",
        "      is_team1_win = p[\"stats\"][\"win\"]\n",
        "    else:\n",
        "      team2.append(p[\"championId\"])\n",
        "      is_team2_win = p[\"stats\"][\"win\"]\n",
        "  \n",
        "  team1 = sorted(team1)\n",
        "  team2 = sorted(team2)\n",
        "  for c in list(itertools.combinations(team1, 2)):\n",
        "    duos.append((c, 1))\n",
        "\n",
        "  for c in list(itertools.combinations(team2, 2)):\n",
        "    duos.append((c, 1))\n",
        "  \n",
        "  return duos"
      ],
      "execution_count": 17,
      "outputs": []
    },
    {
      "cell_type": "code",
      "metadata": {
        "id": "SYRpMqi6GiYK"
      },
      "source": [
        "duos = d.rdd.flatMap(champion_duos)"
      ],
      "execution_count": 18,
      "outputs": []
    },
    {
      "cell_type": "code",
      "metadata": {
        "id": "pIgeAvd-P36C"
      },
      "source": [
        "from operator import add\n",
        "duos_count = duos.reduceByKey(add)"
      ],
      "execution_count": null,
      "outputs": []
    },
    {
      "cell_type": "code",
      "metadata": {
        "id": "p0yyy9DQQzt3"
      },
      "source": [
        ""
      ],
      "execution_count": null,
      "outputs": []
    },
    {
      "cell_type": "code",
      "metadata": {
        "colab": {
          "base_uri": "https://localhost:8080/"
        },
        "id": "U-6wIWfYGiYL",
        "outputId": "9e234f21-8c21-44f3-8f31-ad8548017b8d"
      },
      "source": [
        "# for c in duos_count.collect():\n",
        "#     print(c)\n",
        "#     time.sleep(0.01)\n",
        "\n",
        "top_duos = duos_count.top(20, key=lambda x: x[1])\n",
        "for c in top_duos:\n",
        "    print(c)\n",
        "    time.sleep(0.01)"
      ],
      "execution_count": null,
      "outputs": [
        {
          "output_type": "stream",
          "text": [
            "(('Ezreal', 'Yuumi'), 40)\n",
            "(('Ezreal', 'Sett'), 34)\n",
            "(('Aphelios', 'Thresh'), 33)\n",
            "(('Ezreal', 'Graves'), 32)\n",
            "(('Aphelios', 'Sylas'), 29)\n",
            "(('Bard', 'Ezreal'), 29)\n",
            "(('Graves', 'Thresh'), 28)\n",
            "(('Graves', 'Sylas'), 28)\n",
            "(('Aphelios', 'Lulu'), 27)\n",
            "(('Aphelios', 'Lee Sin'), 27)\n",
            "(('Lee Sin', 'Thresh'), 26)\n",
            "(('Thresh', 'Varus'), 25)\n",
            "(('Elise', 'Ezreal'), 25)\n",
            "(('Graves', 'Syndra'), 24)\n",
            "(('Ezreal', 'Syndra'), 24)\n",
            "(('Sylas', 'Thresh'), 24)\n",
            "(('Jayce', 'Varus'), 24)\n",
            "(('Ezreal', 'Renekton'), 24)\n",
            "(('Ezreal', 'Lee Sin'), 23)\n",
            "(('Lee Sin', 'Sylas'), 23)\n"
          ],
          "name": "stdout"
        }
      ]
    },
    {
      "cell_type": "markdown",
      "metadata": {
        "id": "bQIIRWMlwYmC"
      },
      "source": [
        "## 3. Item Win - pick rates"
      ]
    },
    {
      "cell_type": "code",
      "metadata": {
        "id": "ThDWXB8UwXt_"
      },
      "source": [
        "def get_items(row):\n",
        "  c = []\n",
        "  bans = []\n",
        "  for p in row[\"participants\"]:\n",
        "    for i in range(7):\n",
        "      c.append((p[\"stats\"][\"item\"+str(i)][\"name\"], p[\"stats\"][\"win\"]))\n",
        "  return c"
      ],
      "execution_count": null,
      "outputs": []
    },
    {
      "cell_type": "code",
      "metadata": {
        "id": "apH4Q5SP9WS_"
      },
      "source": [
        "items = d.rdd.flatMap(get_items).groupByKey().mapValues(list)"
      ],
      "execution_count": null,
      "outputs": []
    },
    {
      "cell_type": "code",
      "metadata": {
        "colab": {
          "base_uri": "https://localhost:8080/"
        },
        "id": "iM7JDNu7yI4P",
        "outputId": "ca9d3cc8-7f0a-400d-94bf-1780fb75dece"
      },
      "source": [
        "\n",
        "print(len(items.collect()))"
      ],
      "execution_count": null,
      "outputs": [
        {
          "output_type": "stream",
          "text": [
            "190\n"
          ],
          "name": "stdout"
        }
      ]
    },
    {
      "cell_type": "code",
      "metadata": {
        "id": "TjHFf3X8yXGJ"
      },
      "source": [
        "def compute_item_rates(val):\n",
        "  win_count = val.count(True)\n",
        "  lose_count = val.count(False)\n",
        "  total_played_games = win_count+lose_count\n",
        "  return [win_count/total_played_games, len(val)/no_matches]"
      ],
      "execution_count": null,
      "outputs": []
    },
    {
      "cell_type": "code",
      "metadata": {
        "id": "PDp0aw2M44xx"
      },
      "source": [
        "item_rates = items.map(lambda x:(x[0], compute_item_rates(x[1])))"
      ],
      "execution_count": null,
      "outputs": []
    },
    {
      "cell_type": "code",
      "metadata": {
        "id": "fEaeAQht5HD2"
      },
      "source": [
        "print(\"item       win_rate        pick_rate\")\n",
        "for item in item_rates.collect():\n",
        "    print(item)\n",
        "    time.sleep(0.01)"
      ],
      "execution_count": null,
      "outputs": []
    },
    {
      "cell_type": "code",
      "metadata": {
        "id": "jibgejzj5KZx"
      },
      "source": [
        ""
      ],
      "execution_count": null,
      "outputs": []
    },
    {
      "cell_type": "markdown",
      "metadata": {
        "id": "siTsTQT0SKDW"
      },
      "source": [
        "## 4. Item synergies (with champion, with class)"
      ]
    },
    {
      "cell_type": "code",
      "metadata": {
        "id": "hHd4aUsjXife"
      },
      "source": [
        ""
      ],
      "execution_count": null,
      "outputs": []
    }
  ]
}