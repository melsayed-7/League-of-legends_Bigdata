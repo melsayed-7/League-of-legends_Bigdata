{
  "nbformat": 4,
  "nbformat_minor": 0,
  "metadata": {
    "colab": {
      "name": "Bigdata_miniprojects.ipynb",
      "provenance": [],
      "collapsed_sections": [
        "edH25QDq0KTD",
        "9Uqvpdqt8-0y",
        "bQIIRWMlwYmC",
        "siTsTQT0SKDW"
      ],
      "toc_visible": true,
      "mount_file_id": "1-FVV_6eqEMrnoF0hIdAja5HvF9IEapeZ",
      "authorship_tag": "ABX9TyN5nl6BnXZwZWqfHrzV5FBK",
      "include_colab_link": true
    },
    "kernelspec": {
      "display_name": "Python 3",
      "name": "python3"
    }
  },
  "cells": [
    {
      "cell_type": "markdown",
      "metadata": {
        "id": "view-in-github",
        "colab_type": "text"
      },
      "source": [
        "<a href=\"https://colab.research.google.com/github/moustafa-7/League-of-legends_Bigdata/blob/main/Bigdata_miniprojects.ipynb\" target=\"_parent\"><img src=\"https://colab.research.google.com/assets/colab-badge.svg\" alt=\"Open In Colab\"/></a>"
      ]
    },
    {
      "cell_type": "markdown",
      "metadata": {
        "id": "qX8qIEQn9wcZ"
      },
      "source": [
        "## First thing to do is to add those three files to your drive\n",
        "1. [small_matches.json](https://drive.google.com/file/d/1PKEg_ndTZhSBc9udtfHAqxxAXKvixkj3/view?usp=sharing) (1339 match)\n",
        "2. [small_matches.jsonl](https://drive.google.com/file/d/1godqh6q0vH7oXb1LpD1qWLFGxMhBjE5N/view?usp=sharing) (3000 match)\n",
        "3. [champion_class.json](https://drive.google.com/file/d/1QWZIJvt8O-5zvdhl2rV7FvAKlOseoyM4/view?usp=sharing) \n",
        "\n",
        "### Now you can all the experiments at once by clicking Runtime (top left) then click \"Run all\""
      ]
    },
    {
      "cell_type": "markdown",
      "metadata": {
        "id": "oMZHno-0eZD0"
      },
      "source": [
        "## Initial Setup"
      ]
    },
    {
      "cell_type": "code",
      "metadata": {
        "colab": {
          "base_uri": "https://localhost:8080/"
        },
        "id": "zrkPFZPDUGoA",
        "outputId": "56abf86d-0592-4f22-9727-88e21ad54a16"
      },
      "source": [
        "!sudo apt install p7zip-full"
      ],
      "execution_count": null,
      "outputs": [
        {
          "output_type": "stream",
          "text": [
            "Reading package lists... Done\n",
            "Building dependency tree       \n",
            "Reading state information... Done\n",
            "p7zip-full is already the newest version (16.02+dfsg-6).\n",
            "0 upgraded, 0 newly installed, 0 to remove and 15 not upgraded.\n"
          ],
          "name": "stdout"
        }
      ]
    },
    {
      "cell_type": "code",
      "metadata": {
        "id": "CXOYrKaGUNOU"
      },
      "source": [
        "# !7z e drive/MyDrive/matches.jsonl.7z"
      ],
      "execution_count": null,
      "outputs": []
    },
    {
      "cell_type": "code",
      "metadata": {
        "id": "xORH-E33VC6T"
      },
      "source": [
        "# !head -3000 matches.jsonl > drive/MyDrive/small_matches.jsonl"
      ],
      "execution_count": null,
      "outputs": []
    },
    {
      "cell_type": "code",
      "metadata": {
        "id": "efV4b2R-CB-r"
      },
      "source": [
        "!apt-get install openjdk-8-jdk-headless -qq > /dev/null\n",
        "!wget -q https://www-us.apache.org/dist/spark/spark-2.4.7/spark-2.4.7-bin-hadoop2.7.tgz\n",
        "!tar xf spark-2.4.7-bin-hadoop2.7.tgz\n",
        "!pip install -q findspark"
      ],
      "execution_count": null,
      "outputs": []
    },
    {
      "cell_type": "markdown",
      "metadata": {
        "id": "Cmtc6TMP8kY_"
      },
      "source": [
        "## 0. Import libraries"
      ]
    },
    {
      "cell_type": "code",
      "metadata": {
        "id": "9CHOl8PuLabq"
      },
      "source": [
        "import os\n",
        "os.environ[\"JAVA_HOME\"] = \"/usr/lib/jvm/java-8-openjdk-amd64\"\n",
        "os.environ[\"SPARK_HOME\"] = \"/content/spark-2.4.7-bin-hadoop2.7\""
      ],
      "execution_count": 4,
      "outputs": []
    },
    {
      "cell_type": "code",
      "metadata": {
        "id": "62e5h-Bl8s2b"
      },
      "source": [
        "import findspark\n",
        "findspark.init()\n",
        "import pyspark\n",
        "import random\n",
        "import time\n",
        "import matplotlib.pyplot as plt\n",
        "import pandas as pd\n",
        "from operator import add"
      ],
      "execution_count": 5,
      "outputs": []
    },
    {
      "cell_type": "code",
      "metadata": {
        "id": "3VTubQgW8s2c"
      },
      "source": [
        "def tags(champion_id):\n",
        "  for c in champion_classes:\n",
        "    if champion_id==c[\"championId\"]:\n",
        "      return c[\"tags\"]"
      ],
      "execution_count": 6,
      "outputs": []
    },
    {
      "cell_type": "code",
      "metadata": {
        "id": "YAerdzVB8s2d"
      },
      "source": [
        "from pyspark.sql import SparkSession\n",
        "spark = SparkSession.builder.appName(\"LOL\").getOrCreate()\n",
        "sc = spark.sparkContext\n",
        "\n",
        "# either reading 1339 or 3000 matches\n",
        "# d = spark.read.json(\"drive/MyDrive/small_matches.json\", multiLine=True)\n",
        "d = spark.read.json(\"drive/MyDrive/small_matches.jsonl\", multiLine=False)"
      ],
      "execution_count": 7,
      "outputs": []
    },
    {
      "cell_type": "code",
      "metadata": {
        "colab": {
          "base_uri": "https://localhost:8080/"
        },
        "id": "eu-THcHT8s2e",
        "outputId": "6a1fd3e2-8fbe-47e9-c4fe-aeedc68b9d06"
      },
      "source": [
        "no_matches = d.count()\n",
        "print(no_matches)"
      ],
      "execution_count": 8,
      "outputs": [
        {
          "output_type": "stream",
          "text": [
            "3000\n"
          ],
          "name": "stdout"
        }
      ]
    },
    {
      "cell_type": "code",
      "metadata": {
        "id": "ENBLw1XtLnvv"
      },
      "source": [
        "import findspark\n",
        "findspark.init()\n",
        "import pyspark\n",
        "import random\n",
        "import time\n",
        "import matplotlib.pyplot as plt\n",
        "import pandas as pd\n",
        "from operator import add"
      ],
      "execution_count": 9,
      "outputs": []
    },
    {
      "cell_type": "code",
      "metadata": {
        "id": "jSE9rnnZdoSh"
      },
      "source": [
        "def tags(champion_id):\n",
        "  for c in champion_classes:\n",
        "    if champion_id==c[\"championId\"]:\n",
        "      return c[\"tags\"]"
      ],
      "execution_count": 10,
      "outputs": []
    },
    {
      "cell_type": "code",
      "metadata": {
        "id": "aCVCiDASLqHZ"
      },
      "source": [
        "from pyspark.sql import SparkSession\n",
        "spark = SparkSession.builder.appName(\"LOL\").getOrCreate()\n",
        "sc = spark.sparkContext\n",
        "\n",
        "# either reading 1339 or 3000 matches\n",
        "# d = spark.read.json(\"drive/MyDrive/small_matches.json\", multiLine=True)\n",
        "d = spark.read.json(\"drive/MyDrive/small_matches.jsonl\", multiLine=False)"
      ],
      "execution_count": 11,
      "outputs": []
    },
    {
      "cell_type": "code",
      "metadata": {
        "colab": {
          "base_uri": "https://localhost:8080/"
        },
        "id": "eg4s-w4RFAFK",
        "outputId": "6cfee32a-f0d0-4e6a-c109-0fc043b41053"
      },
      "source": [
        "no_matches = d.count()\n",
        "print(no_matches)"
      ],
      "execution_count": 12,
      "outputs": [
        {
          "output_type": "stream",
          "text": [
            "3000\n"
          ],
          "name": "stdout"
        }
      ]
    },
    {
      "cell_type": "markdown",
      "metadata": {
        "id": "edH25QDq0KTD"
      },
      "source": [
        "## 1. Champions win - pick - ban rates\n",
        "\n",
        "In this requirement, we are asked to return the rates of each champion (ban, pick, win, lose) rates\n",
        "\n",
        "To do so: \\\n",
        "1. Loop over each match and print all participants and ban list (ChampionIds)\n",
        "2. beside each championId print either (win, lose, ban)\n",
        "3. Group by keys so we will have (championId, [win, lose, ban, ...........]\n",
        "4. pass each champion-list to a function that computes rates that returns (champion, (ban, pick, win, lose)).\n",
        "  - ban is computed by $\\frac{ban\\_count}{total\\_matches\\_count}$ \\\n",
        "  - pick is $\\frac{played\\_matches}{total\\_matches\\_count}$\n",
        "  - win and lose by $\\frac{won\\_or\\_lost\\_matches}{total\\_played\\_matches\\_count}$"
      ]
    },
    {
      "cell_type": "markdown",
      "metadata": {
        "id": "fzxDyP78675a"
      },
      "source": [
        ""
      ]
    },
    {
      "cell_type": "code",
      "metadata": {
        "id": "7a_SJ2x9Z8IP"
      },
      "source": [
        "def champions(row):\n",
        "  \"\"\"\n",
        "  This function takes a match and output the following\n",
        "  A list of all champions in this match either winnign champions or losing champions or banned. and then passed to a flat map\n",
        "  \"\"\"\n",
        "  c = []\n",
        "  bans = []\n",
        "  for p in row[\"participants\"]:\n",
        "    # decide which team is this champion to know either this champion won or lost\n",
        "    if(p[\"teamId\"] == \"Blue\"): team_number = 0\n",
        "    else: team_number = 1\n",
        "    # append each champion and either won or lost\n",
        "    c.append((p[\"championId\"], row[\"teams\"][team_number][\"win\"]))\n",
        "  \n",
        "  # loop over banned list and append it to the c (champions) list along with the banned list.\n",
        "  for t in row[\"teams\"]:\n",
        "    for b in t[\"bans\"]:\n",
        "      if(b[\"championId\"] != None):\n",
        "        c.append((b[\"championId\"],\"ban\"))\n",
        "\n",
        "  return c"
      ],
      "execution_count": 163,
      "outputs": []
    },
    {
      "cell_type": "code",
      "metadata": {
        "id": "q5Ij34C0Ewrn"
      },
      "source": [
        "# get champions (and their tags) by passing the matches to champions functions\n",
        "champions = d.rdd.flatMap(champions)"
      ],
      "execution_count": 164,
      "outputs": []
    },
    {
      "cell_type": "code",
      "metadata": {
        "id": "pRJo0IkAE8kL"
      },
      "source": [
        "import time\n",
        "def lookup(champions):\n",
        "  for c in champions.collect():\n",
        "    print(c)\n",
        "    time.sleep(0.1)"
      ],
      "execution_count": 165,
      "outputs": []
    },
    {
      "cell_type": "code",
      "metadata": {
        "id": "3Ir0KLpzz-8Z"
      },
      "source": [
        "# group all output values by championId and then convert all tags to a list so the final layout is:\n",
        "#   championId: list[win, lost, banned, .......]\n",
        "by_champion = champions.groupByKey().mapValues(list)"
      ],
      "execution_count": 166,
      "outputs": []
    },
    {
      "cell_type": "code",
      "metadata": {
        "id": "YbhfkgpI6R3A"
      },
      "source": [
        "def compute_champion_rates(val):\n",
        "  \"\"\"\n",
        "  This function takes a champion and counts how many times it was banned, won, and lost and normalize each rate.\n",
        "  \"\"\"\n",
        "  ban_count = val.count(\"ban\")\n",
        "  win_count = val.count(\"Win\")\n",
        "  lose_count = val.count(\"Fail\")\n",
        "  total_played_games = win_count+lose_count\n",
        "  \n",
        "  # some times a champion maybe banned but was never chosen by a user so it just return \"never played\" instead of win and lose rates\n",
        "  if(total_played_games):\n",
        "    return [ban_count/no_matches, total_played_games/no_matches, win_count/total_played_games, lose_count/total_played_games]\n",
        "  else:\n",
        "    return [ban_count/no_matches, \"never_played\", \"never_played\"]"
      ],
      "execution_count": 185,
      "outputs": []
    },
    {
      "cell_type": "code",
      "metadata": {
        "id": "gRK6ZBxY4uuo"
      },
      "source": [
        "win_pick_ban_rates = by_champion.map(lambda x:(x[0], compute_champion_rates(x[1]))).filter(lambda x: x[1][2] is not 'never_played')\n",
        "# ban, pick, win, lose rates in a python list type\n",
        "champion_rates_list = win_pick_ban_rates.collect()"
      ],
      "execution_count": 193,
      "outputs": []
    },
    {
      "cell_type": "code",
      "metadata": {
        "id": "EWGZsJkP_yBw"
      },
      "source": [
        "N = 10"
      ],
      "execution_count": 194,
      "outputs": []
    },
    {
      "cell_type": "code",
      "metadata": {
        "id": "6WpK2C0bBCtn"
      },
      "source": [
        "# sorted(champion_rates_list, key = lambda x : x[1][0])[:10]\n",
        "champion_rates_list"
      ],
      "execution_count": null,
      "outputs": []
    },
    {
      "cell_type": "code",
      "metadata": {
        "id": "jTyiBqkz9Qt2"
      },
      "source": [
        "# sort depending on each rate (top 10)\n",
        "\n",
        "# top banned\n",
        "top_banned_champions = sorted(champion_rates_list, key = lambda x: x[1][0], reverse = True)[:N] \n",
        "\n",
        "# top picked\n",
        "top_picked_champions = sorted(champion_rates_list, key = lambda x: x[1][1], reverse = True)[:N] \n",
        "\n",
        "# top winning\n",
        "top_winning_champions = sorted(champion_rates_list, key = lambda x: x[1][2], reverse = True)[:N] \n",
        "\n",
        "# top losing\n",
        "top_losing_champions = sorted(champion_rates_list, key = lambda x: x[1][3], reverse = True)[:N] "
      ],
      "execution_count": 196,
      "outputs": []
    },
    {
      "cell_type": "code",
      "metadata": {
        "id": "XV8_CXYoIaJ9"
      },
      "source": [
        "def show_rate(top_rate_champions,rate_category, bar_name):\n",
        "  c_id, c_rates = zip(*top_rate_champions)\n",
        "  ban = []\n",
        "  pick = []\n",
        "  win = []\n",
        "  lose = []\n",
        "  for r in c_rates:\n",
        "    ban.append(r[0])\n",
        "    pick.append(r[1])\n",
        "    win.append(r[2])\n",
        "    lose.append(r[3])\n",
        "\n",
        "  c_table = {\"id\": c_id, \"ban\": ban, \"pick\": pick, \"win\":win, 'lose':lose}\n",
        "\n",
        "  c_df = pd.DataFrame(c_table, columns = ['id', 'ban', 'pick', 'win', 'lose'])\n",
        "  width = 0.25\n",
        "  fig, ax = plt.subplots(figsize=(20,5))\n",
        "  pos = list(range(len(c_df['id'])))\n",
        "  plt.bar(c_df[\"id\"], c_df[rate_category], width, alpha=0.5, color='#EE3224')\n",
        "  ax.set_title(bar_name)\n",
        "  ax.set_ylabel('rate')\n",
        "  ax.set_xticklabels(c_df['id'])\n",
        "  plt.show()\n"
      ],
      "execution_count": 199,
      "outputs": []
    },
    {
      "cell_type": "code",
      "metadata": {
        "colab": {
          "base_uri": "https://localhost:8080/",
          "height": 336
        },
        "id": "FRNU-A3hltY3",
        "outputId": "eaddfe51-5286-4431-8ad4-dc3c5fdb0a3f"
      },
      "source": [
        "show_rate(top_picked_champions, \"pick\", \"Pick rate\")"
      ],
      "execution_count": 202,
      "outputs": [
        {
          "output_type": "display_data",
          "data": {
            "image/png": "[encoded data removed]",
            "text/plain": [
              "<Figure size 1440x360 with 1 Axes>"
            ]
          },
          "metadata": {
            "tags": [],
            "needs_background": "light"
          }
        }
      ]
    },
    {
      "cell_type": "code",
      "metadata": {
        "colab": {
          "base_uri": "https://localhost:8080/",
          "height": 336
        },
        "id": "w3taDHBKnsLV",
        "outputId": "793695fa-6e06-4b06-a3c5-bae2d5238a0e"
      },
      "source": [
        "show_rate(top_banned_champions, \"ban\", \"Ban rate\")"
      ],
      "execution_count": 203,
      "outputs": [
        {
          "output_type": "display_data",
          "data": {
            "image/png": "[encoded data removed]",
            "text/plain": [
              "<Figure size 1440x360 with 1 Axes>"
            ]
          },
          "metadata": {
            "tags": [],
            "needs_background": "light"
          }
        }
      ]
    },
    {
      "cell_type": "code",
      "metadata": {
        "colab": {
          "base_uri": "https://localhost:8080/",
          "height": 336
        },
        "id": "t-Rv-N1mnws9",
        "outputId": "b3eba28b-4d35-4db9-91ec-a3af81353e12"
      },
      "source": [
        "show_rate(top_winning_champions, \"win\", \"Win rate\")"
      ],
      "execution_count": 205,
      "outputs": [
        {
          "output_type": "display_data",
          "data": {
            "image/png": "[encoded data removed]",
            "text/plain": [
              "<Figure size 1440x360 with 1 Axes>"
            ]
          },
          "metadata": {
            "tags": [],
            "needs_background": "light"
          }
        }
      ]
    },
    {
      "cell_type": "code",
      "metadata": {
        "colab": {
          "base_uri": "https://localhost:8080/",
          "height": 336
        },
        "id": "kXzQQ_wdn-B-",
        "outputId": "19c0362e-db1e-4f9b-d8b4-402e2ef54d08"
      },
      "source": [
        "show_rate(top_losing_champions, \"lose\", \"Lose rate\")"
      ],
      "execution_count": 206,
      "outputs": [
        {
          "output_type": "display_data",
          "data": {
            "image/png": "[encoded data removed]",
            "text/plain": [
              "<Figure size 1440x360 with 1 Axes>"
            ]
          },
          "metadata": {
            "tags": [],
            "needs_background": "light"
          }
        }
      ]
    },
    {
      "cell_type": "markdown",
      "metadata": {
        "id": "9Uqvpdqt8-0y"
      },
      "source": [
        "## 2. Champion Synergies or Duos\n",
        "\n",
        "To get Champion Duos:\n",
        "1. Loop over all matches and in each match output all combination (across the team only not 2 teams) so in one game we are supposed to have $2 * 5C_2 = 20$ combinations\n",
        "2. Each combination is outputed along with either 1 or 1.5 \n",
        "  - 1 means that this combination lost match\n",
        "  - 1.5 means that this combination won the match (to give higher weight for winning duo)\n",
        "  - All combinations are ordered alphabitically so that no duo is replicated\n",
        "3. Reduce by the score (1 or 1.5) using the sum operation."
      ]
    },
    {
      "cell_type": "code",
      "metadata": {
        "id": "yvcwBTEkGiYA"
      },
      "source": [
        "import itertools\n",
        "def champion_duos(row):\n",
        "  duos = []\n",
        "  team1 = []\n",
        "  team2 = []\n",
        "\n",
        "  # know which team won or lost\n",
        "  is_team1_win = False\n",
        "  is_team2_win = False\n",
        "\n",
        "  # loop over all particiapants\n",
        "  for p in row[\"participants\"]:\n",
        "    if(p[\"teamId\"] == \"Blue\"): \n",
        "      team_number = 0\n",
        "    else: \n",
        "      team_number = 1\n",
        "    \n",
        "    # save memory each participant in its corresponding team list\n",
        "    if(team_number == 0):\n",
        "      team1.append(p[\"championId\"])\n",
        "      is_team1_win = p[\"stats\"][\"win\"]\n",
        "    else:\n",
        "      team2.append(p[\"championId\"])\n",
        "      is_team2_win = p[\"stats\"][\"win\"]\n",
        "\n",
        "  # Sort alphabitically\n",
        "  team1 = sorted(team1)\n",
        "  team2 = sorted(team2)\n",
        "\n",
        "  # loop over all combinations and produce (combination, 1/1.5)\n",
        "  for c in list(itertools.combinations(team1, 2)):\n",
        "    if is_team1_win:\n",
        "      duos.append((c, 1.5))\n",
        "    else:\n",
        "      duos.append((c, 1))\n",
        "\n",
        "  for c in list(itertools.combinations(team2, 2)):\n",
        "    if is_team2_win:\n",
        "      duos.append((c, 1.5))\n",
        "    else:\n",
        "      duos.append((c, 1))\n",
        "\n",
        "  \n",
        "  return duos"
      ],
      "execution_count": 300,
      "outputs": []
    },
    {
      "cell_type": "code",
      "metadata": {
        "id": "SYRpMqi6GiYK"
      },
      "source": [
        "duos_score = d.rdd.flatMap(champion_duos).reduceByKey(add)\n",
        "duos_score_list =  duos_score.collect()"
      ],
      "execution_count": 301,
      "outputs": []
    },
    {
      "cell_type": "code",
      "metadata": {
        "id": "6nKvRvS0rCNm"
      },
      "source": [
        "top_duos = sorted(duos_score_list, key = lambda x: x[1], reverse = True)[:N] "
      ],
      "execution_count": 302,
      "outputs": []
    },
    {
      "cell_type": "code",
      "metadata": {
        "id": "7jnECW__rU3C"
      },
      "source": [
        "c_id, c_rates = zip(*top_duos)\n",
        "\n",
        "\n",
        "def duo_score(bar_name):\n",
        "  duos, duo_score = zip(*top_duos)\n",
        "\n",
        "  # get names to be id1_id2\n",
        "  d = []\n",
        "  for du in duos:\n",
        "    d.append(du[0]+'_'+du[1])\n",
        "\n",
        "  # create dictionary to be a pandas dataframe\n",
        "  duo_table = {\"duo\": d, \"score\": duo_score}\n",
        "\n",
        "  # plot\n",
        "  c_df = pd.DataFrame(duo_table, columns = ['duo', 'score'])\n",
        "  width = 0.25\n",
        "  fig, ax = plt.subplots(figsize=(20,5))\n",
        "  plt.bar(c_df[\"duo\"], c_df[\"score\"], width, alpha=0.5, color='#EE3224')\n",
        "  ax.set_title(bar_name)\n",
        "  ax.set_ylabel('total Score')\n",
        "  ax.set_xticklabels(c_df['duo'])\n",
        "  plt.show()"
      ],
      "execution_count": 303,
      "outputs": []
    },
    {
      "cell_type": "code",
      "metadata": {
        "colab": {
          "base_uri": "https://localhost:8080/",
          "height": 337
        },
        "id": "sKpSAqjosYi6",
        "outputId": "224fc60b-d435-40e3-8f6b-b7d49a1fe81a"
      },
      "source": [
        "duo_score(\"Duo synergies\")"
      ],
      "execution_count": 304,
      "outputs": [
        {
          "output_type": "display_data",
          "data": {
            "image/png": "[encoded data removed]",
            "text/plain": [
              "<Figure size 1440x360 with 1 Axes>"
            ]
          },
          "metadata": {
            "tags": [],
            "needs_background": "light"
          }
        }
      ]
    },
    {
      "cell_type": "markdown",
      "metadata": {
        "id": "bQIIRWMlwYmC"
      },
      "source": [
        "## 3. Item Win - pick rates\n",
        "\n",
        "Exactly the same as Champion win and pick rates"
      ]
    },
    {
      "cell_type": "code",
      "metadata": {
        "id": "ThDWXB8UwXt_"
      },
      "source": [
        "def get_items(row):\n",
        "  # this takes the row and produces the item_id and either its player won or lost\n",
        "  c = []\n",
        "  bans = []\n",
        "  for p in row[\"participants\"]:\n",
        "    for i in range(7):\n",
        "      c.append((p[\"stats\"][\"item\"+str(i)][\"name\"], p[\"stats\"][\"win\"]))\n",
        "  return c"
      ],
      "execution_count": 235,
      "outputs": []
    },
    {
      "cell_type": "code",
      "metadata": {
        "id": "apH4Q5SP9WS_"
      },
      "source": [
        "items = d.rdd.flatMap(get_items).groupByKey().mapValues(list)"
      ],
      "execution_count": 236,
      "outputs": []
    },
    {
      "cell_type": "code",
      "metadata": {
        "id": "TjHFf3X8yXGJ"
      },
      "source": [
        "def compute_item_rates(val):\n",
        "  win_count = val.count(True)\n",
        "  lose_count = val.count(False)\n",
        "  total_played_games = win_count+lose_count\n",
        "  return [win_count/total_played_games, len(val)/no_matches]"
      ],
      "execution_count": 244,
      "outputs": []
    },
    {
      "cell_type": "code",
      "metadata": {
        "id": "PDp0aw2M44xx"
      },
      "source": [
        "# some times I find None type which is really weird\n",
        "item_rates = items.map(lambda x:(x[0], compute_item_rates(x[1]))).filter(lambda x: x[0] is not None)\n",
        "item_rates_list =  item_rates.collect()"
      ],
      "execution_count": 297,
      "outputs": []
    },
    {
      "cell_type": "code",
      "metadata": {
        "id": "k34tRIJexybA"
      },
      "source": [
        "def item_rate_bar(rate_type,bar_name):\n",
        "  if rate_type == \"pick\":\n",
        "    top_item_rates = sorted(item_rates_list, key = lambda x: x[1][1], reverse = True)[:N] \n",
        "  else:\n",
        "    top_item_rates = sorted(item_rates_list, key = lambda x: x[1][0], reverse = True)[:N] \n",
        "\n",
        "  \n",
        "  item, rates = zip(*top_item_rates)\n",
        "  pick = []\n",
        "  win = []\n",
        "  for r in rates:\n",
        "    win.append(r[0])\n",
        "    pick.append(r[1])  \n",
        "\n",
        "  \n",
        "  # create dictionary to be a pandas dataframe\n",
        "  if r == \"pick\":\n",
        "    item_table = {\"item\": item, \"rates\": pick}\n",
        "  else:\n",
        "    item_table = {\"item\": item, \"rates\": win}\n",
        "\n",
        "\n",
        "\n",
        "  # plot\n",
        "  c_df = pd.DataFrame(item_table, columns = ['item', 'rates'])\n",
        "  width = 0.25\n",
        "  fig, ax = plt.subplots(figsize=(20,5))\n",
        "  plt.bar(c_df[\"item\"], c_df[\"rates\"], width, alpha=0.5, color='#EE3224')\n",
        "  ax.set_title(bar_name)\n",
        "  ax.set_ylabel(rate_type+' rate')\n",
        "  ax.set_xticklabels(c_df['item'])\n",
        "  plt.show()"
      ],
      "execution_count": 294,
      "outputs": []
    },
    {
      "cell_type": "code",
      "metadata": {
        "colab": {
          "base_uri": "https://localhost:8080/",
          "height": 336
        },
        "id": "DIti6bwXy9QR",
        "outputId": "b2876bcb-0189-488e-850d-60d3aed9a5fa"
      },
      "source": [
        "item_rate_bar(\"win\",\"ًWin Rate\")"
      ],
      "execution_count": 298,
      "outputs": [
        {
          "output_type": "display_data",
          "data": {
            "image/png": "[encoded data removed]",
            "text/plain": [
              "<Figure size 1440x360 with 1 Axes>"
            ]
          },
          "metadata": {
            "tags": [],
            "needs_background": "light"
          }
        }
      ]
    },
    {
      "cell_type": "code",
      "metadata": {
        "colab": {
          "base_uri": "https://localhost:8080/",
          "height": 336
        },
        "id": "fx9b2I0o3pNT",
        "outputId": "2f098b8b-5840-4c32-89d6-ae93e3ed30c6"
      },
      "source": [
        "item_rate_bar(\"Pick\",\"Pick Rate\")"
      ],
      "execution_count": 299,
      "outputs": [
        {
          "output_type": "display_data",
          "data": {
            "image/png": "[encoded data removed]",
            "text/plain": [
              "<Figure size 1440x360 with 1 Axes>"
            ]
          },
          "metadata": {
            "tags": [],
            "needs_background": "light"
          }
        }
      ]
    },
    {
      "cell_type": "code",
      "metadata": {
        "colab": {
          "base_uri": "https://localhost:8080/"
        },
        "id": "OmKqToM34GZ_",
        "outputId": "a647ff6d-4682-4125-d146-b8bffadd6073"
      },
      "source": [
        "#sorted by win\n",
        "top_item_rates = sorted(item_rates_list, key = lambda x: x[1][0], reverse = True)[:N] \n",
        "top_item_rates"
      ],
      "execution_count": 307,
      "outputs": [
        {
          "output_type": "execute_result",
          "data": {
            "text/plain": [
              "[('Hex Core mk-2', [1.0, 0.002]),\n",
              " ('Circlet of the Iron Solari', [1.0, 0.0023333333333333335]),\n",
              " (\"Rabadon's Deathcrown\", [0.9047619047619048, 0.007]),\n",
              " ('Eye of the Herald', [0.8703703703703703, 0.018]),\n",
              " ('Might of the Ruined King', [0.8571428571428571, 0.011666666666666667]),\n",
              " (\"Zhonya's Paradox\", [0.8181818181818182, 0.007333333333333333]),\n",
              " ('Trinity Fusion', [0.7692307692307693, 0.004333333333333333]),\n",
              " ('Salvation', [0.75, 0.004]),\n",
              " (\"Mejai's Soulstealer\", [0.7490494296577946, 0.17533333333333334]),\n",
              " ('Elixir of Iron', [0.7142857142857143, 0.0023333333333333335])]"
            ]
          },
          "metadata": {
            "tags": []
          },
          "execution_count": 307
        }
      ]
    },
    {
      "cell_type": "code",
      "metadata": {
        "colab": {
          "base_uri": "https://localhost:8080/"
        },
        "id": "fEaeAQht5HD2",
        "outputId": "3e690ac2-ca67-42aa-d454-a2dad312f9c8"
      },
      "source": [
        "# Sorted by pick\n",
        "top_item_rates = sorted(item_rates_list, key = lambda x: x[1][1], reverse = True)[:N] \n",
        "top_item_rates"
      ],
      "execution_count": 308,
      "outputs": [
        {
          "output_type": "execute_result",
          "data": {
            "text/plain": [
              "[('Oracle Lens', [0.5078062127796555, 4.142]),\n",
              " ('Warding Totem (Trinket)', [0.476211119540479, 3.0756666666666668]),\n",
              " ('Farsight Alteration', [0.5158680771624145, 2.6783333333333332]),\n",
              " ('Control Ward', [0.44373837569745817, 2.1506666666666665]),\n",
              " ('Ninja Tabi', [0.5017238548678378, 2.0303333333333335]),\n",
              " (\"Sorcerer's Shoes\", [0.5240919199406968, 1.7986666666666666]),\n",
              " (\"Mercury's Treads\", [0.5302612019537056, 1.5696666666666668]),\n",
              " (\"Doran's Blade\", [0.475395234914273, 1.497]),\n",
              " (\"Berserker's Greaves\", [0.4913360693114455, 1.462]),\n",
              " ('Black Cleaver', [0.5295573274676931, 1.2123333333333333])]"
            ]
          },
          "metadata": {
            "tags": []
          },
          "execution_count": 308
        }
      ]
    },
    {
      "cell_type": "markdown",
      "metadata": {
        "id": "siTsTQT0SKDW"
      },
      "source": [
        "## 4. Item synergies (with champion, with class)\n",
        "\n",
        "Item Synergies with Champion and Class followed a very similar procedure like Champion synergies\n",
        "\n",
        "To get the Champion class, I used the champion_class.json file from the [data dragon](https://developer.riotgames.com/docs/lol#data-dragon) provided by riot games\n",
        "\n",
        "To get Item synergies with class and champions:\n",
        "1. read match and produce a record for each playing champion in this game in this form: \n",
        "  - item (win/lose- champion - class_1 and/or class_2)\n",
        "\n",
        "2- to compute with classes or champions:\n",
        "  - Do the same as requirement_2 by giving weight to losing and higher weight to winning and reduce using add operation."
      ]
    },
    {
      "cell_type": "code",
      "metadata": {
        "id": "laDoxUX8rjiN"
      },
      "source": [
        "import json\n",
        "classes = open(\"drive/MyDrive/champion_class.json\")\n",
        "champion_classes = json.load(classes)"
      ],
      "execution_count": 13,
      "outputs": []
    },
    {
      "cell_type": "code",
      "metadata": {
        "id": "RCQcxXQTs96R"
      },
      "source": [
        "# this funciton takes championId and returns back its class/es\n",
        "def tags(champion_id):\n",
        "  for c in champion_classes:\n",
        "    if champion_id==c[\"championId\"]:\n",
        "      return c[\"tags\"]"
      ],
      "execution_count": 14,
      "outputs": []
    },
    {
      "cell_type": "code",
      "metadata": {
        "id": "hHd4aUsjXife"
      },
      "source": [
        "def get_items_champion(row):\n",
        "  c = []\n",
        "  for p in row[\"participants\"]:\n",
        "    for i in range(7):\n",
        "      if(tags(p[\"championId\"])):\n",
        "        c.append((p[\"stats\"][\"item\"+str(i)][\"name\"], (p[\"stats\"][\"win\"], p[\"championId\"],*tags(p[\"championId\"]))))\n",
        "  return c"
      ],
      "execution_count": 15,
      "outputs": []
    },
    {
      "cell_type": "code",
      "metadata": {
        "id": "1MKOGl2jrVan"
      },
      "source": [
        "items_champion = d.rdd.flatMap(get_items_champion).groupByKey().mapValues(list)"
      ],
      "execution_count": 16,
      "outputs": []
    },
    {
      "cell_type": "code",
      "metadata": {
        "id": "6OgMhb0R4rZ2"
      },
      "source": [
        "# this function computes champion_item synergy by counting how many times this champion played with this item (and give higher weight when winning the game)\n",
        "# also it returns sorted list of all champions by the total score and return the top 10 champions by default\n",
        "def champion_item_synergies(row):\n",
        "  champion_dict= {}\n",
        "  for val in row[1]:\n",
        "    if(val[1] in champion_dict):\n",
        "      champion_dict[val[1]] += 1\n",
        "    else:\n",
        "      champion_dict[val[1]] = 1\n",
        "    \n",
        "    if(val[0] == True):\n",
        "            champion_dict [val[1]] += 0.5\n",
        "\n",
        "  c = []\n",
        "  for k, r in sorted(champion_dict.items(), key=lambda x:x[1], reverse=True):\n",
        "    c.append((k, r))\n",
        "\n",
        "  return  c[:10]"
      ],
      "execution_count": 71,
      "outputs": []
    },
    {
      "cell_type": "code",
      "metadata": {
        "id": "K-pQfBfmtvWJ"
      },
      "source": [
        "item_champion_synergy = items_champion.map(lambda x:(x[0] ,champion_item_synergies(x))).filter(lambda x: x[0] is not None)\n",
        "item_champion_list = item_champion_synergy.collect()"
      ],
      "execution_count": 72,
      "outputs": []
    },
    {
      "cell_type": "code",
      "metadata": {
        "id": "Yzty7ieG76kR"
      },
      "source": [
        "item, c = zip(*item_champion_list)\n"
      ],
      "execution_count": 73,
      "outputs": []
    },
    {
      "cell_type": "code",
      "metadata": {
        "id": "-LbBZWTuByV7"
      },
      "source": [
        "item"
      ],
      "execution_count": null,
      "outputs": []
    },
    {
      "cell_type": "code",
      "metadata": {
        "id": "DsgSSVJH-7TE"
      },
      "source": [
        "def synergy_by_item(search_item='Shard of True Ice'):\n",
        "  item, c = zip(*item_champion_list)\n",
        "  # get names to be id1_id2\n",
        "  for i in range(len(item_champion_list)):\n",
        "    if(search_item==item[i]):\n",
        "      item_c_list = item_champion_list[i][1]\n",
        "      champs, score  = zip(*item_c_list)\n",
        "      # create dictionary to be a pandas dataframe\n",
        "      item_champion_table = {\"champion\": champs, \"score\": score}\n",
        "\n",
        "      # plot\n",
        "      c_df = pd.DataFrame(item_champion_table, columns = ['champion', 'score'])\n",
        "      width = 0.25\n",
        "      fig, ax = plt.subplots(figsize=(20,5))\n",
        "      plt.bar(c_df[\"champion\"], c_df[\"score\"], width, alpha=0.5, color='#EE3224')\n",
        "      ax.set_title(search_item)\n",
        "      ax.set_ylabel('total Score')\n",
        "      ax.set_xticklabels(c_df['champion'])\n",
        "      plt.show()\n",
        "      return\n",
        "    \n",
        "  print(\"Item not found!!\")"
      ],
      "execution_count": 75,
      "outputs": []
    },
    {
      "cell_type": "code",
      "metadata": {
        "id": "hZBhGSVVE5xU",
        "outputId": "9a85841b-eac8-4372-ccf1-741dbecf690a",
        "colab": {
          "base_uri": "https://localhost:8080/",
          "height": 336
        }
      },
      "source": [
        "synergy_by_item()"
      ],
      "execution_count": 76,
      "outputs": [
        {
          "output_type": "display_data",
          "data": {
            "image/png": "[encoded data removed]",
            "text/plain": [
              "<Figure size 1440x360 with 1 Axes>"
            ]
          },
          "metadata": {
            "tags": [],
            "needs_background": "light"
          }
        }
      ]
    },
    {
      "cell_type": "code",
      "metadata": {
        "id": "jC4mrxfNBuHH",
        "outputId": "2b990f54-917e-4809-ace8-996e7d987fdc",
        "colab": {
          "base_uri": "https://localhost:8080/",
          "height": 336
        }
      },
      "source": [
        "synergy_by_item('Faerie Charm')"
      ],
      "execution_count": 77,
      "outputs": [
        {
          "output_type": "display_data",
          "data": {
            "image/png": "[encoded data removed]",
            "text/plain": [
              "<Figure size 1440x360 with 1 Axes>"
            ]
          },
          "metadata": {
            "tags": [],
            "needs_background": "light"
          }
        }
      ]
    },
    {
      "cell_type": "markdown",
      "metadata": {
        "id": "mc8nuXSkFiHx"
      },
      "source": [
        "#### Class Item Synergy \n",
        "This gets the top 3 classes that use this item by the usual score fuction"
      ]
    },
    {
      "cell_type": "code",
      "metadata": {
        "id": "8kV3-DNODmzh"
      },
      "source": [
        "def class_item_synergies(row):\n",
        "  class_dict= {}\n",
        "  for val in row[1]:\n",
        "    for cls in val[2:]:\n",
        "      if(cls in class_dict):\n",
        "        class_dict[cls] += 1\n",
        "      else:\n",
        "        class_dict[cls] = 1\n",
        "    \n",
        "      if(val[0] == True):\n",
        "        class_dict[cls] += 0.5\n",
        "\n",
        "  c = []\n",
        "  for k, r in sorted(class_dict.items(), key=lambda x:x[1], reverse=True):\n",
        "    c.append((k, r))\n",
        "\n",
        "  return (row[0], c[:3])"
      ],
      "execution_count": 78,
      "outputs": []
    },
    {
      "cell_type": "code",
      "metadata": {
        "id": "LS6Bc2aPLneY"
      },
      "source": [
        "item_class_synergy = items_champion.map(lambda x: class_item_synergies(x))\n",
        "item_class_synergy_list = item_class_synergy.collect()"
      ],
      "execution_count": 83,
      "outputs": []
    },
    {
      "cell_type": "code",
      "metadata": {
        "id": "cdRY5GHPLper"
      },
      "source": [
        "def class_synergy_by_item(search_item='Shard of True Ice'):\n",
        "  item, c = zip(*item_class_synergy_list)\n",
        "  # get names to be id1_id2\n",
        "  for i in range(len(item_class_synergy_list)):\n",
        "    if(search_item==item[i]):\n",
        "      item_c_list = item_class_synergy_list[i][1]\n",
        "      champs, score  = zip(*item_c_list)\n",
        "      # create dictionary to be a pandas dataframe\n",
        "      item_champion_table = {\"champion\": champs, \"score\": score}\n",
        "\n",
        "      # plot\n",
        "      c_df = pd.DataFrame(item_champion_table, columns = ['champion', 'score'])\n",
        "      width = 0.25\n",
        "      fig, ax = plt.subplots(figsize=(20,5))\n",
        "      plt.bar(c_df[\"champion\"], c_df[\"score\"], width, alpha=0.5, color='#EE3224')\n",
        "      ax.set_title(search_item)\n",
        "      ax.set_ylabel('total Score')\n",
        "      ax.set_xticklabels(c_df['champion'])\n",
        "      plt.show()\n",
        "      return\n",
        "    \n",
        "  print(\"Item not found!!\")"
      ],
      "execution_count": 86,
      "outputs": []
    },
    {
      "cell_type": "code",
      "metadata": {
        "id": "a5b0uRyGGatc",
        "outputId": "f5357e45-ce5f-4c36-c728-9a4eefe8d3ed",
        "colab": {
          "base_uri": "https://localhost:8080/",
          "height": 336
        }
      },
      "source": [
        "class_synergy_by_item()"
      ],
      "execution_count": 87,
      "outputs": [
        {
          "output_type": "display_data",
          "data": {
            "image/png": "[encoded data removed]",
            "text/plain": [
              "<Figure size 1440x360 with 1 Axes>"
            ]
          },
          "metadata": {
            "tags": [],
            "needs_background": "light"
          }
        }
      ]
    },
    {
      "cell_type": "code",
      "metadata": {
        "id": "_RgHIWXZGsmU",
        "outputId": "07b7fd8d-c905-494a-a4d2-5511c0432c55",
        "colab": {
          "base_uri": "https://localhost:8080/",
          "height": 336
        }
      },
      "source": [
        "class_synergy_by_item('Faerie Charm')"
      ],
      "execution_count": 88,
      "outputs": [
        {
          "output_type": "display_data",
          "data": {
            "image/png": "[encoded data removed]",
            "text/plain": [
              "<Figure size 1440x360 with 1 Axes>"
            ]
          },
          "metadata": {
            "tags": [],
            "needs_background": "light"
          }
        }
      ]
    },
    {
      "cell_type": "markdown",
      "metadata": {
        "id": "TD4kUPI_PqFy"
      },
      "source": [
        "## 5. Item suggestion\n",
        "To get Item suggestions I got it like Item synergies but in backwards. I got what each champion mostly use out of all Items (legendary) Also giving higher weight (double) if this item is was on the winning team.\n",
        "\n",
        "To do this:\n",
        "1. loop over all participants\n",
        "2. loop over all items of each participant and make sure it is a legendary Item\n",
        "3. some time the \"gold\" feild is not there so it gives None object so I filter this as well.\n",
        "4. the output is in this format (championId, (itemId, win/lose))"
      ]
    },
    {
      "cell_type": "code",
      "metadata": {
        "id": "kvz46FYwJYlr"
      },
      "source": [
        "def champion_item(row):\n",
        "  c = []\n",
        "  for p in row[\"participants\"]:\n",
        "    # c.append(p[\"championId\"])\n",
        "    for i in range(7):\n",
        "      if(p[\"stats\"][\"item\"+str(i)][\"gold\"]):\n",
        "        if (not p[\"stats\"][\"item\"+str(i)][\"into\"]) and tags(p[\"championId\"]) and (p[\"stats\"][\"item\"+str(i)][\"gold\"][\"total\"] >= 1000):\n",
        "          c.append((p[\"championId\"], ( p[\"stats\"][\"item\"+str(i)][\"name\"], p[\"stats\"][\"win\"])))\n",
        "  return  c"
      ],
      "execution_count": 106,
      "outputs": []
    },
    {
      "cell_type": "code",
      "metadata": {
        "id": "vohvbqHjzH0n"
      },
      "source": [
        "c_item = d.rdd.flatMap(champion_item).groupByKey().mapValues(list)\n"
      ],
      "execution_count": 107,
      "outputs": []
    },
    {
      "cell_type": "code",
      "metadata": {
        "id": "VeGczyACMdf1"
      },
      "source": [
        "def champion_item_suggest(row):\n",
        "  item_dict= {}\n",
        "  for val in row[1]:\n",
        "    if(val[0] in item_dict):\n",
        "      item_dict[val[0]] += 1\n",
        "    else:\n",
        "      item_dict[val[0]] = 1\n",
        "    \n",
        "    if(val[0] == True):\n",
        "            item_dict [val[0]] += 1\n",
        "\n",
        "  c = []\n",
        "  for k, r in sorted(item_dict.items(), key=lambda x:x[1], reverse=True):\n",
        "    c.append((k, r))\n",
        "\n",
        "  \n",
        "  return (row[0], (c[:6]))"
      ],
      "execution_count": 95,
      "outputs": []
    },
    {
      "cell_type": "code",
      "metadata": {
        "id": "jd1a-X4-bRFW"
      },
      "source": [
        "champion_item_suggestion = c_item_class.map(lambda x: champion_item_suggest(x))\n",
        "c_item_list =  champion_item_suggestion.collect()"
      ],
      "execution_count": 108,
      "outputs": []
    },
    {
      "cell_type": "code",
      "metadata": {
        "id": "0fBOJcgnck9q"
      },
      "source": [
        "# for item in champion_item_suggestion.collect():\n",
        "#     print(item)\n",
        "#     time.sleep(0.01)"
      ],
      "execution_count": 109,
      "outputs": []
    },
    {
      "cell_type": "code",
      "metadata": {
        "id": "Yk0GsWadJ8EG"
      },
      "source": [
        "champs, items = zip(*c_item_list)"
      ],
      "execution_count": 110,
      "outputs": []
    },
    {
      "cell_type": "code",
      "metadata": {
        "id": "HSsKWxwfKWj7"
      },
      "source": [
        "# this function takes the championId and gives back the highest 6 scoring function depending on the equation\n",
        "def c_item_bar(search_champ='Lulu'):\n",
        "\n",
        "  champs, items = zip(*c_item_list)\n",
        "  # get names to be id1_id2\n",
        "  for i in range(len(item_champion_list)):\n",
        "    if(search_champ==champs[i]):\n",
        "      items_list = items[i]\n",
        "      champion_items_list, score  = zip(*items_list)\n",
        "      # create dictionary to be a pandas dataframe\n",
        "      item_champion_table = {\"items\": champion_items_list, \"score\": score}\n",
        "\n",
        "      # plot\n",
        "      c_df = pd.DataFrame(item_champion_table, columns = ['items', 'score'])\n",
        "      width = 0.25\n",
        "      fig, ax = plt.subplots(figsize=(20,5))\n",
        "      plt.bar(c_df[\"items\"], c_df[\"score\"], width, alpha=0.5, color='#EE3224')\n",
        "      ax.set_title(search_champ)\n",
        "      ax.set_ylabel('total Score')\n",
        "      ax.set_xticklabels(c_df['items'])\n",
        "      plt.show()\n",
        "      return\n",
        "    \n",
        "  print(\"Item not found!!\")"
      ],
      "execution_count": 116,
      "outputs": []
    },
    {
      "cell_type": "code",
      "metadata": {
        "id": "yTsehsVpL3WE",
        "outputId": "d03a6f91-b0e8-4f69-995f-63cac563dc55",
        "colab": {
          "base_uri": "https://localhost:8080/",
          "height": 336
        }
      },
      "source": [
        "c_item_bar()"
      ],
      "execution_count": 117,
      "outputs": [
        {
          "output_type": "display_data",
          "data": {
            "image/png": "[encoded data removed]",
            "text/plain": [
              "<Figure size 1440x360 with 1 Axes>"
            ]
          },
          "metadata": {
            "tags": [],
            "needs_background": "light"
          }
        }
      ]
    },
    {
      "cell_type": "code",
      "metadata": {
        "id": "nkQDXHp9LvM_",
        "outputId": "d0bbec3e-1cd1-4a56-ff9d-a477cc6fb43d",
        "colab": {
          "base_uri": "https://localhost:8080/",
          "height": 336
        }
      },
      "source": [
        "c_item_bar('Lux')"
      ],
      "execution_count": 114,
      "outputs": [
        {
          "output_type": "display_data",
          "data": {
            "image/png": "[encoded data removed]",
            "text/plain": [
              "<Figure size 1440x360 with 1 Axes>"
            ]
          },
          "metadata": {
            "tags": [],
            "needs_background": "light"
          }
        }
      ]
    },
    {
      "cell_type": "code",
      "metadata": {
        "id": "8nn0tReJLuWL"
      },
      "source": [
        ""
      ],
      "execution_count": null,
      "outputs": []
    }
  ]
}