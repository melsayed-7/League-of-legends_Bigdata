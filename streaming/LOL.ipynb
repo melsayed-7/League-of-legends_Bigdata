{
 "cells": [
  {
   "cell_type": "code",
   "execution_count": 1,
   "metadata": {
    "id": "9_Uz1NL4gHFx"
   },
   "outputs": [],
   "source": [
    "import findspark\n",
    "from pyspark.sql import SparkSession\n",
    "from pyspark import SparkContext\n",
    "from pyspark.streaming import StreamingContext"
   ]
  },
  {
   "cell_type": "code",
   "execution_count": 2,
   "metadata": {
    "colab": {
     "base_uri": "https://localhost:8080/"
    },
    "id": "LkT3H6JU6k6m",
    "outputId": "812ce247-6ef4-40ba-eac4-d3e0535828fb"
   },
   "outputs": [],
   "source": [
    "# !pip3.6 install riotwatcher"
   ]
  },
  {
   "cell_type": "code",
   "execution_count": 3,
   "metadata": {
    "colab": {
     "base_uri": "https://localhost:8080/",
     "height": 367
    },
    "id": "sKQkpDN9-sHP",
    "outputId": "bee34a48-590b-4347-cc04-d3aa86481aef"
   },
   "outputs": [],
   "source": [
    "# Create a local StreamingContext with two working thread and batch interval of 1 second\n",
    "# sc = SparkContext(, \"LOL\")\n",
    "\n",
    "findspark.init()\n",
    "spark = SparkSession.builder.master(\"local[*]\").getOrCreate()\n",
    "ssc = StreamingContext(sc, 5)"
   ]
  },
  {
   "cell_type": "code",
   "execution_count": 4,
   "metadata": {
    "id": "aaJaXJse6mG0"
   },
   "outputs": [],
   "source": [
    "from riotwatcher import LolWatcher, ApiError\n",
    "import json\n",
    "import random\n",
    "import time\n",
    "\n",
    "watcher = LolWatcher('RGAPI-bee6aa98-2316-448f-bd43-dac8d90dc7a5')\n",
    "region = 'EUN1'\n",
    "random.seed(123)"
   ]
  },
  {
   "cell_type": "code",
   "execution_count": 5,
   "metadata": {
    "id": "NvUAcA1B9gvA"
   },
   "outputs": [],
   "source": [
    "# used to call multiple games at once\n",
    "# gamelist=[]\n",
    "# for i in range (500):\n",
    "#     gamelist.extend(watcher.spectator.featured_games(region)[\"gameList\"])"
   ]
  },
  {
   "cell_type": "code",
   "execution_count": 6,
   "metadata": {
    "scrolled": true
   },
   "outputs": [],
   "source": [
    "# with open('data', 'w') as f:\n",
    "#     for game in gamelist:\n",
    "#         f.write(json.dumps(game)+\"\\n\")"
   ]
  },
  {
   "cell_type": "code",
   "execution_count": 7,
   "metadata": {},
   "outputs": [],
   "source": [
    "games = ssc.socketTextStream(\"localhost\", 9999)\n",
    "# games=ssc.textFileStream(\"data\")\n",
    "# games=games.flatMap(lambda x:json.loads(x))"
   ]
  },
  {
   "cell_type": "code",
   "execution_count": 8,
   "metadata": {},
   "outputs": [],
   "source": [
    "def getTeamMembers(game,team_id):\n",
    "    participants=game['participants']\n",
    "    \n",
    "    [{'summonerName':participant['summonerName'],\"championId\":participant[\"championId\"]} for participant in game['participants'] if participant['bot']== False and participant['teamId']==100]"
   ]
  },
  {
   "cell_type": "code",
   "execution_count": 4,
   "metadata": {},
   "outputs": [
    {
     "ename": "JSONDecodeError",
     "evalue": "Expecting property name enclosed in double quotes: line 1 column 3 (char 2)",
     "output_type": "error",
     "traceback": [
      "\u001b[0;31m---------------------------------------------------------------------------\u001b[0m",
      "\u001b[0;31mJSONDecodeError\u001b[0m                           Traceback (most recent call last)",
      "\u001b[0;32m<ipython-input-4-4647ff0908a6>\u001b[0m in \u001b[0;36m<module>\u001b[0;34m\u001b[0m\n\u001b[1;32m      1\u001b[0m \u001b[0;32mimport\u001b[0m \u001b[0mjson\u001b[0m\u001b[0;34m\u001b[0m\u001b[0;34m\u001b[0m\u001b[0m\n\u001b[1;32m      2\u001b[0m \u001b[0;34m\u001b[0m\u001b[0m\n\u001b[0;32m----> 3\u001b[0;31m \u001b[0mx\u001b[0m\u001b[0;34m=\u001b[0m\u001b[0mjson\u001b[0m\u001b[0;34m.\u001b[0m\u001b[0mloads\u001b[0m\u001b[0;34m(\u001b[0m\u001b[0;34m\"[{'summonerName': 'King Punisher', 'championId': 50, 'teamId': 100}, {'summonerName': 'Seyroχ', 'championId': 121, 'teamId': 100}, {'summonerName': '2OF US ARE DYING', 'championId': 114, 'teamId': 100}, {'summonerName': 'Nut In Head', 'championId': 39, 'teamId': 100}, {'summonerName': 'Zumei666', 'championId': 40, 'teamId': 100}, {'summonerName': 'Elise Presley', 'championId': 60, 'teamId': 200}, {'summonerName': 'RiverSanzu1', 'championId': 145, 'teamId': 200}, {'summonerName': 'Thę Legend', 'championId': 91, 'teamId': 200}, {'summonerName': 'Nórm', 'championId': 98, 'teamId': 200}, {'summonerName': 'Scaryride', 'championId': 412, 'teamId': 200}]\"\u001b[0m\u001b[0;34m)\u001b[0m\u001b[0;34m\u001b[0m\u001b[0;34m\u001b[0m\u001b[0m\n\u001b[0m",
      "\u001b[0;32m/usr/lib/python3.6/json/__init__.py\u001b[0m in \u001b[0;36mloads\u001b[0;34m(s, encoding, cls, object_hook, parse_float, parse_int, parse_constant, object_pairs_hook, **kw)\u001b[0m\n\u001b[1;32m    352\u001b[0m             \u001b[0mparse_int\u001b[0m \u001b[0;32mis\u001b[0m \u001b[0;32mNone\u001b[0m \u001b[0;32mand\u001b[0m \u001b[0mparse_float\u001b[0m \u001b[0;32mis\u001b[0m \u001b[0;32mNone\u001b[0m \u001b[0;32mand\u001b[0m\u001b[0;34m\u001b[0m\u001b[0;34m\u001b[0m\u001b[0m\n\u001b[1;32m    353\u001b[0m             parse_constant is None and object_pairs_hook is None and not kw):\n\u001b[0;32m--> 354\u001b[0;31m         \u001b[0;32mreturn\u001b[0m \u001b[0m_default_decoder\u001b[0m\u001b[0;34m.\u001b[0m\u001b[0mdecode\u001b[0m\u001b[0;34m(\u001b[0m\u001b[0ms\u001b[0m\u001b[0;34m)\u001b[0m\u001b[0;34m\u001b[0m\u001b[0;34m\u001b[0m\u001b[0m\n\u001b[0m\u001b[1;32m    355\u001b[0m     \u001b[0;32mif\u001b[0m \u001b[0mcls\u001b[0m \u001b[0;32mis\u001b[0m \u001b[0;32mNone\u001b[0m\u001b[0;34m:\u001b[0m\u001b[0;34m\u001b[0m\u001b[0;34m\u001b[0m\u001b[0m\n\u001b[1;32m    356\u001b[0m         \u001b[0mcls\u001b[0m \u001b[0;34m=\u001b[0m \u001b[0mJSONDecoder\u001b[0m\u001b[0;34m\u001b[0m\u001b[0;34m\u001b[0m\u001b[0m\n",
      "\u001b[0;32m/usr/lib/python3.6/json/decoder.py\u001b[0m in \u001b[0;36mdecode\u001b[0;34m(self, s, _w)\u001b[0m\n\u001b[1;32m    337\u001b[0m \u001b[0;34m\u001b[0m\u001b[0m\n\u001b[1;32m    338\u001b[0m         \"\"\"\n\u001b[0;32m--> 339\u001b[0;31m         \u001b[0mobj\u001b[0m\u001b[0;34m,\u001b[0m \u001b[0mend\u001b[0m \u001b[0;34m=\u001b[0m \u001b[0mself\u001b[0m\u001b[0;34m.\u001b[0m\u001b[0mraw_decode\u001b[0m\u001b[0;34m(\u001b[0m\u001b[0ms\u001b[0m\u001b[0;34m,\u001b[0m \u001b[0midx\u001b[0m\u001b[0;34m=\u001b[0m\u001b[0m_w\u001b[0m\u001b[0;34m(\u001b[0m\u001b[0ms\u001b[0m\u001b[0;34m,\u001b[0m \u001b[0;36m0\u001b[0m\u001b[0;34m)\u001b[0m\u001b[0;34m.\u001b[0m\u001b[0mend\u001b[0m\u001b[0;34m(\u001b[0m\u001b[0;34m)\u001b[0m\u001b[0;34m)\u001b[0m\u001b[0;34m\u001b[0m\u001b[0;34m\u001b[0m\u001b[0m\n\u001b[0m\u001b[1;32m    340\u001b[0m         \u001b[0mend\u001b[0m \u001b[0;34m=\u001b[0m \u001b[0m_w\u001b[0m\u001b[0;34m(\u001b[0m\u001b[0ms\u001b[0m\u001b[0;34m,\u001b[0m \u001b[0mend\u001b[0m\u001b[0;34m)\u001b[0m\u001b[0;34m.\u001b[0m\u001b[0mend\u001b[0m\u001b[0;34m(\u001b[0m\u001b[0;34m)\u001b[0m\u001b[0;34m\u001b[0m\u001b[0;34m\u001b[0m\u001b[0m\n\u001b[1;32m    341\u001b[0m         \u001b[0;32mif\u001b[0m \u001b[0mend\u001b[0m \u001b[0;34m!=\u001b[0m \u001b[0mlen\u001b[0m\u001b[0;34m(\u001b[0m\u001b[0ms\u001b[0m\u001b[0;34m)\u001b[0m\u001b[0;34m:\u001b[0m\u001b[0;34m\u001b[0m\u001b[0;34m\u001b[0m\u001b[0m\n",
      "\u001b[0;32m/usr/lib/python3.6/json/decoder.py\u001b[0m in \u001b[0;36mraw_decode\u001b[0;34m(self, s, idx)\u001b[0m\n\u001b[1;32m    353\u001b[0m         \"\"\"\n\u001b[1;32m    354\u001b[0m         \u001b[0;32mtry\u001b[0m\u001b[0;34m:\u001b[0m\u001b[0;34m\u001b[0m\u001b[0;34m\u001b[0m\u001b[0m\n\u001b[0;32m--> 355\u001b[0;31m             \u001b[0mobj\u001b[0m\u001b[0;34m,\u001b[0m \u001b[0mend\u001b[0m \u001b[0;34m=\u001b[0m \u001b[0mself\u001b[0m\u001b[0;34m.\u001b[0m\u001b[0mscan_once\u001b[0m\u001b[0;34m(\u001b[0m\u001b[0ms\u001b[0m\u001b[0;34m,\u001b[0m \u001b[0midx\u001b[0m\u001b[0;34m)\u001b[0m\u001b[0;34m\u001b[0m\u001b[0;34m\u001b[0m\u001b[0m\n\u001b[0m\u001b[1;32m    356\u001b[0m         \u001b[0;32mexcept\u001b[0m \u001b[0mStopIteration\u001b[0m \u001b[0;32mas\u001b[0m \u001b[0merr\u001b[0m\u001b[0;34m:\u001b[0m\u001b[0;34m\u001b[0m\u001b[0;34m\u001b[0m\u001b[0m\n\u001b[1;32m    357\u001b[0m             \u001b[0;32mraise\u001b[0m \u001b[0mJSONDecodeError\u001b[0m\u001b[0;34m(\u001b[0m\u001b[0;34m\"Expecting value\"\u001b[0m\u001b[0;34m,\u001b[0m \u001b[0ms\u001b[0m\u001b[0;34m,\u001b[0m \u001b[0merr\u001b[0m\u001b[0;34m.\u001b[0m\u001b[0mvalue\u001b[0m\u001b[0;34m)\u001b[0m \u001b[0;32mfrom\u001b[0m \u001b[0;32mNone\u001b[0m\u001b[0;34m\u001b[0m\u001b[0;34m\u001b[0m\u001b[0m\n",
      "\u001b[0;31mJSONDecodeError\u001b[0m: Expecting property name enclosed in double quotes: line 1 column 3 (char 2)"
     ]
    }
   ],
   "source": [
    "import json\n",
    "\n",
    "json.loads(\"[{'summonerName': 'King Punisher', 'championId': 50, 'teamId': 100}, {'summonerName': 'Seyroχ', 'championId': 121, 'teamId': 100}, {'summonerName': '2OF US ARE DYING', 'championId': 114, 'teamId': 100}, {'summonerName': 'Nut In Head', 'championId': 39, 'teamId': 100}, {'summonerName': 'Zumei666', 'championId': 40, 'teamId': 100}, {'summonerName': 'Elise Presley', 'championId': 60, 'teamId': 200}, {'summonerName': 'RiverSanzu1', 'championId': 145, 'teamId': 200}, {'summonerName': 'Thę Legend', 'championId': 91, 'teamId': 200}, {'summonerName': 'Nórm', 'championId': 98, 'teamId': 200}, {'summonerName': 'Scaryride', 'championId': 412, 'teamId': 200}]\")"
   ]
  },
  {
   "cell_type": "code",
   "execution_count": 10,
   "metadata": {
    "collapsed": true
   },
   "outputs": [
    {
     "name": "stdout",
     "output_type": "stream",
     "text": [
      "-------------------------------------------\n",
      "Time: 2020-12-26 10:26:50\n",
      "-------------------------------------------\n",
      "\n",
      "-------------------------------------------\n",
      "Time: 2020-12-26 10:26:55\n",
      "-------------------------------------------\n",
      "\n"
     ]
    },
    {
     "ename": "KeyboardInterrupt",
     "evalue": "",
     "output_type": "error",
     "traceback": [
      "\u001b[0;31m---------------------------------------------------------------------------\u001b[0m",
      "\u001b[0;31mKeyboardInterrupt\u001b[0m                         Traceback (most recent call last)",
      "\u001b[0;32m<ipython-input-10-18f3db416f1c>\u001b[0m in \u001b[0;36m<module>\u001b[0;34m\u001b[0m\n\u001b[1;32m      1\u001b[0m \u001b[0mssc\u001b[0m\u001b[0;34m.\u001b[0m\u001b[0mstart\u001b[0m\u001b[0;34m(\u001b[0m\u001b[0;34m)\u001b[0m\u001b[0;34m\u001b[0m\u001b[0;34m\u001b[0m\u001b[0m\n\u001b[0;32m----> 2\u001b[0;31m \u001b[0mssc\u001b[0m\u001b[0;34m.\u001b[0m\u001b[0mawaitTermination\u001b[0m\u001b[0;34m(\u001b[0m\u001b[0;34m)\u001b[0m\u001b[0;34m\u001b[0m\u001b[0;34m\u001b[0m\u001b[0m\n\u001b[0m",
      "\u001b[0;32m/opt/spark/python/pyspark/streaming/context.py\u001b[0m in \u001b[0;36mawaitTermination\u001b[0;34m(self, timeout)\u001b[0m\n\u001b[1;32m    190\u001b[0m         \"\"\"\n\u001b[1;32m    191\u001b[0m         \u001b[0;32mif\u001b[0m \u001b[0mtimeout\u001b[0m \u001b[0;32mis\u001b[0m \u001b[0;32mNone\u001b[0m\u001b[0;34m:\u001b[0m\u001b[0;34m\u001b[0m\u001b[0;34m\u001b[0m\u001b[0m\n\u001b[0;32m--> 192\u001b[0;31m             \u001b[0mself\u001b[0m\u001b[0;34m.\u001b[0m\u001b[0m_jssc\u001b[0m\u001b[0;34m.\u001b[0m\u001b[0mawaitTermination\u001b[0m\u001b[0;34m(\u001b[0m\u001b[0;34m)\u001b[0m\u001b[0;34m\u001b[0m\u001b[0;34m\u001b[0m\u001b[0m\n\u001b[0m\u001b[1;32m    193\u001b[0m         \u001b[0;32melse\u001b[0m\u001b[0;34m:\u001b[0m\u001b[0;34m\u001b[0m\u001b[0;34m\u001b[0m\u001b[0m\n\u001b[1;32m    194\u001b[0m             \u001b[0mself\u001b[0m\u001b[0;34m.\u001b[0m\u001b[0m_jssc\u001b[0m\u001b[0;34m.\u001b[0m\u001b[0mawaitTerminationOrTimeout\u001b[0m\u001b[0;34m(\u001b[0m\u001b[0mint\u001b[0m\u001b[0;34m(\u001b[0m\u001b[0mtimeout\u001b[0m \u001b[0;34m*\u001b[0m \u001b[0;36m1000\u001b[0m\u001b[0;34m)\u001b[0m\u001b[0;34m)\u001b[0m\u001b[0;34m\u001b[0m\u001b[0;34m\u001b[0m\u001b[0m\n",
      "\u001b[0;32m~/.local/lib/python3.6/site-packages/py4j/java_gateway.py\u001b[0m in \u001b[0;36m__call__\u001b[0;34m(self, *args)\u001b[0m\n\u001b[1;32m   1301\u001b[0m             \u001b[0mproto\u001b[0m\u001b[0;34m.\u001b[0m\u001b[0mEND_COMMAND_PART\u001b[0m\u001b[0;34m\u001b[0m\u001b[0;34m\u001b[0m\u001b[0m\n\u001b[1;32m   1302\u001b[0m \u001b[0;34m\u001b[0m\u001b[0m\n\u001b[0;32m-> 1303\u001b[0;31m         \u001b[0manswer\u001b[0m \u001b[0;34m=\u001b[0m \u001b[0mself\u001b[0m\u001b[0;34m.\u001b[0m\u001b[0mgateway_client\u001b[0m\u001b[0;34m.\u001b[0m\u001b[0msend_command\u001b[0m\u001b[0;34m(\u001b[0m\u001b[0mcommand\u001b[0m\u001b[0;34m)\u001b[0m\u001b[0;34m\u001b[0m\u001b[0;34m\u001b[0m\u001b[0m\n\u001b[0m\u001b[1;32m   1304\u001b[0m         return_value = get_return_value(\n\u001b[1;32m   1305\u001b[0m             answer, self.gateway_client, self.target_id, self.name)\n",
      "\u001b[0;32m~/.local/lib/python3.6/site-packages/py4j/java_gateway.py\u001b[0m in \u001b[0;36msend_command\u001b[0;34m(self, command, retry, binary)\u001b[0m\n\u001b[1;32m   1031\u001b[0m         \u001b[0mconnection\u001b[0m \u001b[0;34m=\u001b[0m \u001b[0mself\u001b[0m\u001b[0;34m.\u001b[0m\u001b[0m_get_connection\u001b[0m\u001b[0;34m(\u001b[0m\u001b[0;34m)\u001b[0m\u001b[0;34m\u001b[0m\u001b[0;34m\u001b[0m\u001b[0m\n\u001b[1;32m   1032\u001b[0m         \u001b[0;32mtry\u001b[0m\u001b[0;34m:\u001b[0m\u001b[0;34m\u001b[0m\u001b[0;34m\u001b[0m\u001b[0m\n\u001b[0;32m-> 1033\u001b[0;31m             \u001b[0mresponse\u001b[0m \u001b[0;34m=\u001b[0m \u001b[0mconnection\u001b[0m\u001b[0;34m.\u001b[0m\u001b[0msend_command\u001b[0m\u001b[0;34m(\u001b[0m\u001b[0mcommand\u001b[0m\u001b[0;34m)\u001b[0m\u001b[0;34m\u001b[0m\u001b[0;34m\u001b[0m\u001b[0m\n\u001b[0m\u001b[1;32m   1034\u001b[0m             \u001b[0;32mif\u001b[0m \u001b[0mbinary\u001b[0m\u001b[0;34m:\u001b[0m\u001b[0;34m\u001b[0m\u001b[0;34m\u001b[0m\u001b[0m\n\u001b[1;32m   1035\u001b[0m                 \u001b[0;32mreturn\u001b[0m \u001b[0mresponse\u001b[0m\u001b[0;34m,\u001b[0m \u001b[0mself\u001b[0m\u001b[0;34m.\u001b[0m\u001b[0m_create_connection_guard\u001b[0m\u001b[0;34m(\u001b[0m\u001b[0mconnection\u001b[0m\u001b[0;34m)\u001b[0m\u001b[0;34m\u001b[0m\u001b[0;34m\u001b[0m\u001b[0m\n",
      "\u001b[0;32m~/.local/lib/python3.6/site-packages/py4j/java_gateway.py\u001b[0m in \u001b[0;36msend_command\u001b[0;34m(self, command)\u001b[0m\n\u001b[1;32m   1198\u001b[0m \u001b[0;34m\u001b[0m\u001b[0m\n\u001b[1;32m   1199\u001b[0m         \u001b[0;32mtry\u001b[0m\u001b[0;34m:\u001b[0m\u001b[0;34m\u001b[0m\u001b[0;34m\u001b[0m\u001b[0m\n\u001b[0;32m-> 1200\u001b[0;31m             \u001b[0manswer\u001b[0m \u001b[0;34m=\u001b[0m \u001b[0msmart_decode\u001b[0m\u001b[0;34m(\u001b[0m\u001b[0mself\u001b[0m\u001b[0;34m.\u001b[0m\u001b[0mstream\u001b[0m\u001b[0;34m.\u001b[0m\u001b[0mreadline\u001b[0m\u001b[0;34m(\u001b[0m\u001b[0;34m)\u001b[0m\u001b[0;34m[\u001b[0m\u001b[0;34m:\u001b[0m\u001b[0;34m-\u001b[0m\u001b[0;36m1\u001b[0m\u001b[0;34m]\u001b[0m\u001b[0;34m)\u001b[0m\u001b[0;34m\u001b[0m\u001b[0;34m\u001b[0m\u001b[0m\n\u001b[0m\u001b[1;32m   1201\u001b[0m             \u001b[0mlogger\u001b[0m\u001b[0;34m.\u001b[0m\u001b[0mdebug\u001b[0m\u001b[0;34m(\u001b[0m\u001b[0;34m\"Answer received: {0}\"\u001b[0m\u001b[0;34m.\u001b[0m\u001b[0mformat\u001b[0m\u001b[0;34m(\u001b[0m\u001b[0manswer\u001b[0m\u001b[0;34m)\u001b[0m\u001b[0;34m)\u001b[0m\u001b[0;34m\u001b[0m\u001b[0;34m\u001b[0m\u001b[0m\n\u001b[1;32m   1202\u001b[0m             \u001b[0;32mif\u001b[0m \u001b[0manswer\u001b[0m\u001b[0;34m.\u001b[0m\u001b[0mstartswith\u001b[0m\u001b[0;34m(\u001b[0m\u001b[0mproto\u001b[0m\u001b[0;34m.\u001b[0m\u001b[0mRETURN_MESSAGE\u001b[0m\u001b[0;34m)\u001b[0m\u001b[0;34m:\u001b[0m\u001b[0;34m\u001b[0m\u001b[0;34m\u001b[0m\u001b[0m\n",
      "\u001b[0;32m/usr/lib/python3.6/socket.py\u001b[0m in \u001b[0;36mreadinto\u001b[0;34m(self, b)\u001b[0m\n\u001b[1;32m    584\u001b[0m         \u001b[0;32mwhile\u001b[0m \u001b[0;32mTrue\u001b[0m\u001b[0;34m:\u001b[0m\u001b[0;34m\u001b[0m\u001b[0;34m\u001b[0m\u001b[0m\n\u001b[1;32m    585\u001b[0m             \u001b[0;32mtry\u001b[0m\u001b[0;34m:\u001b[0m\u001b[0;34m\u001b[0m\u001b[0;34m\u001b[0m\u001b[0m\n\u001b[0;32m--> 586\u001b[0;31m                 \u001b[0;32mreturn\u001b[0m \u001b[0mself\u001b[0m\u001b[0;34m.\u001b[0m\u001b[0m_sock\u001b[0m\u001b[0;34m.\u001b[0m\u001b[0mrecv_into\u001b[0m\u001b[0;34m(\u001b[0m\u001b[0mb\u001b[0m\u001b[0;34m)\u001b[0m\u001b[0;34m\u001b[0m\u001b[0;34m\u001b[0m\u001b[0m\n\u001b[0m\u001b[1;32m    587\u001b[0m             \u001b[0;32mexcept\u001b[0m \u001b[0mtimeout\u001b[0m\u001b[0;34m:\u001b[0m\u001b[0;34m\u001b[0m\u001b[0;34m\u001b[0m\u001b[0m\n\u001b[1;32m    588\u001b[0m                 \u001b[0mself\u001b[0m\u001b[0;34m.\u001b[0m\u001b[0m_timeout_occurred\u001b[0m \u001b[0;34m=\u001b[0m \u001b[0;32mTrue\u001b[0m\u001b[0;34m\u001b[0m\u001b[0;34m\u001b[0m\u001b[0m\n",
      "\u001b[0;31mKeyboardInterrupt\u001b[0m: "
     ]
    }
   ],
   "source": [
    "ssc.start()\n",
    "ssc.awaitTermination()"
   ]
  },
  {
   "cell_type": "code",
   "execution_count": null,
   "metadata": {
    "id": "4vQBPe2O_2Sh"
   },
   "outputs": [],
   "source": [
    "blue=[{'summonerName':participant['summonerName'],\"championId\":participant[\"championId\"]} for participant in game['participants'] if participant['bot']== False and participant['teamId']==100]\n",
    "red=[{'summonerName':participant['summonerName'],\"championId\":participant[\"championId\"]} for participant in game['participants'] if participant['bot']== False and participant['teamId']==200]"
   ]
  },
  {
   "cell_type": "code",
   "execution_count": 76,
   "metadata": {
    "id": "FTH3zQYu-b-s"
   },
   "outputs": [],
   "source": [
    "def getPlayersInGame(region:str)->tuple:\n",
    "  watcher.spectator.featured_games(region)\n",
    "  game=random.choice(gamelist['gameList'])  \n",
    "  blue=[{'summonerName':participant['summonerName'],\"championId\":participant[\"championId\"]} for participant in game['participants'] if participant['bot']== False and participant['teamId']==100]\n",
    "  red=[{'summonerName':participant['summonerName'],\"championId\":participant[\"championId\"]} for participant in game['participants'] if participant['bot']== False and participant['teamId']==200]\n",
    "  return(blue,red)"
   ]
  },
  {
   "cell_type": "code",
   "execution_count": 77,
   "metadata": {
    "id": "bwH62i5iDP6U"
   },
   "outputs": [],
   "source": [
    "blue,red = getPlayersInGame(region)"
   ]
  },
  {
   "cell_type": "code",
   "execution_count": 256,
   "metadata": {
    "id": "blaOZYDfmaHQ"
   },
   "outputs": [],
   "source": [
    "def getPlayerScore(player:dict,matches_limit:int=5):\n",
    "  player_stats={\"wins\" :0,\n",
    "                \"kills\" :0,\n",
    "                \"deaths\" :0,\n",
    "                \"assists\" :0,\n",
    "                \"largestKillingSpree\" :0,\n",
    "                \"largestMultiKill\" :0,\n",
    "                \"killingSprees\" :0,\n",
    "                \"longestTimeSpentLiving\" :0,\n",
    "                \"doubleKills\" :0,\n",
    "                \"tripleKills\" :0,\n",
    "                \"quadraKills\" :0,\n",
    "                \"pentaKills\" :0,\n",
    "                \"unrealKills\" :0,\n",
    "                \"totalDamageDealt\" :0,\n",
    "                \"magicDamageDealt\" :0,\n",
    "                \"physicalDamageDealt\" :0,\n",
    "                \"trueDamageDealt\" :0,\n",
    "                \"largestCriticalStrike\" :0,\n",
    "                \"totalDamageDealtToChampions\" :0,\n",
    "                \"magicDamageDealtToChampions\" :0,\n",
    "                \"physicalDamageDealtToChampions\" :0,\n",
    "                \"trueDamageDealtToChampions\" :0,\n",
    "                \"totalHeal\" :0,\n",
    "                \"totalUnitsHealed\" :0,\n",
    "                \"damageSelfMitigated\" :0,\n",
    "                \"damageDealtToObjectives\" :0,\n",
    "                \"damageDealtToTurrets\" :0,\n",
    "                \"visionScore\" :0,\n",
    "                \"timeCCingOthers\" :0,\n",
    "                \"totalDamageTaken\" :0,\n",
    "                \"magicalDamageTaken\" :0,\n",
    "                \"physicalDamageTaken\" :0,\n",
    "                \"trueDamageTaken\" :0,\n",
    "                \"goldEarned\" :0,\n",
    "                \"goldSpent\" :0,\n",
    "                \"turretKills\" :0,\n",
    "                \"inhibitorKills\" :0,\n",
    "                \"totalMinionsKilled\" :0,\n",
    "                \"neutralMinionsKilled\" :0,\n",
    "                \"totalTimeCrowdControlDealt\" :0,\n",
    "                \"combatPlayerScore\" :0,\n",
    "                \"objectivePlayerScore\" :0,\n",
    "                \"totalPlayerScore\" :0,\n",
    "                \"totalScoreRank\" :0}\n",
    "\n",
    "  # Player basic game data\n",
    "  player_name=player[\"summonerName\"]\n",
    "  player_champ=player[\"championId\"]\n",
    "  player_data=watcher.summoner.by_name(region,player_name)\n",
    "  \n",
    "  # Player Champ data\n",
    "  account_id=player_data['accountId']\n",
    "  summoner_id=player_data['id']\n",
    "  player_champ_data=watcher.champion_mastery.by_summoner_by_champion(region,summoner_id,player_champ)\n",
    "  \n",
    "  player_stats[\"champ_level\"]=player_champ_data['championLevel']\n",
    "  player_stats[\"champ_points\"]=player_champ_data['championPoints']\n",
    "  player_stats[\"champ_familiarity\"]=(int(round(time.time() * 1000)) - player_champ_data['lastPlayTime'])/1000 #converts it into seconds\n",
    "  \n",
    "  #get the matches list the summoner played\n",
    "  matches_champ=watcher.match.matchlist_by_account(region,encrypted_account_id=accountid,champion=player_champ)\n",
    "  matches=watcher.match.matchlist_by_account(region,encrypted_account_id=accountid) \n",
    "\n",
    "  # aquire the detail stats of all played matches by this player\n",
    "  matches_data=[]\n",
    "  for idx,match in enumerate(matches[\"matches\"]):\n",
    "    if idx==matches_limit: break\n",
    "    matches_data.append(watcher.match.by_id(region,match[\"gameId\"]))\n",
    "  matches_number=len(matches_data)\n",
    "\n",
    "  # loop over all the matches and get the important stats\n",
    "  for match in matches_data:\n",
    "    player_id=[participant[\"participantId\"] for participant in match[\"participantIdentities\"] if participant[\"player\"][\"summonerId\"]==summoner_id]\n",
    "    assert len(player_id)==1\n",
    "    player_id=player_id[0]\n",
    "    participant=[participant for participant in match[\"participants\"] if participant[\"participantId\"]==player_id]\n",
    "    assert len(participant)==1\n",
    "    stats = participant[0][\"stats\"]\n",
    "    \n",
    "    if stats[\"win\"]: player_stats[\"wins\"] +=1  #: false\n",
    "    player_stats[\"kills\"] += stats[\"kills\"]  #: 27\n",
    "    player_stats[\"deaths\"] += stats[\"deaths\"]  #: 8\n",
    "    player_stats[\"assists\"] += stats[\"assists\"]  #: 13\n",
    "    player_stats[\"largestKillingSpree\"] += stats[\"largestKillingSpree\"]  #: 6\n",
    "    player_stats[\"largestMultiKill\"] += stats[\"largestMultiKill\"]  #: 2\n",
    "    player_stats[\"killingSprees\"] += stats[\"killingSprees\"]  #: 7\n",
    "    player_stats[\"longestTimeSpentLiving\"] += stats[\"longestTimeSpentLiving\"]  #: 232\n",
    "    player_stats[\"doubleKills\"] += stats[\"doubleKills\"]  #: 5\n",
    "    player_stats[\"tripleKills\"] += stats[\"tripleKills\"]  #: 0\n",
    "    player_stats[\"quadraKills\"] += stats[\"quadraKills\"]  #: 0\n",
    "    player_stats[\"pentaKills\"] += stats[\"pentaKills\"]  #: 0\n",
    "    # player_stats[\"unrealKills\"] += stats[\"unrealKills\"]  #: 0\n",
    "    player_stats[\"totalDamageDealt\"] += stats[\"totalDamageDealt\"]  #: 145108\n",
    "    # player_stats[\"magicDamageDealt\"] += stats[\"magicDamageDealt\"]  #: 6740\n",
    "    # player_stats[\"physicalDamageDealt\"] += stats[\"physicalDamageDealt\"]  #: 136190\n",
    "    # player_stats[\"trueDamageDealt\"] += stats[\"trueDamageDealt\"]  #: 2176\n",
    "    # player_stats[\"largestCriticalStrike\"] += stats[\"largestCriticalStrike\"]  #: 847\n",
    "    # player_stats[\"totalDamageDealtToChampions\"] += stats[\"totalDamageDealtToChampions\"]  #: 55924\n",
    "    # player_stats[\"magicDamageDealtToChampions\"] += stats[\"magicDamageDealtToChampions\"]  #: 2371\n",
    "    # player_stats[\"physicalDamageDealtToChampions\"] += stats[\"physicalDamageDealtToChampions\"]  #: 51489\n",
    "    # player_stats[\"trueDamageDealtToChampions\"] += stats[\"trueDamageDealtToChampions\"]  #: 2063\n",
    "    # player_stats[\"totalHeal\"] += stats[\"totalHeal\"]  #: 9776\n",
    "    # player_stats[\"totalUnitsHealed\"] += stats[\"totalUnitsHealed\"]  #: 1\n",
    "    # player_stats[\"damageSelfMitigated\"] += stats[\"damageSelfMitigated\"]  #: 21852\n",
    "    player_stats[\"damageDealtToObjectives\"] += stats[\"damageDealtToObjectives\"]  #: 1417\n",
    "    player_stats[\"damageDealtToTurrets\"] += stats[\"damageDealtToTurrets\"]  #: 1417\n",
    "    player_stats[\"visionScore\"] += stats[\"visionScore\"]  #: 0\n",
    "    player_stats[\"timeCCingOthers\"] += stats[\"timeCCingOthers\"]  #: 46\n",
    "    player_stats[\"totalDamageTaken\"] += stats[\"totalDamageTaken\"]  #: 28124\n",
    "    player_stats[\"magicalDamageTaken\"] += stats[\"magicalDamageTaken\"]  #: 14883\n",
    "    player_stats[\"physicalDamageTaken\"] += stats[\"physicalDamageTaken\"]  #: 12785\n",
    "    player_stats[\"trueDamageTaken\"] += stats[\"trueDamageTaken\"]  #: 456\n",
    "    player_stats[\"goldEarned\"] += stats[\"goldEarned\"]  #: 19869\n",
    "    # player_stats[\"goldSpent\"] += stats[\"goldSpent\"]  #: 17100\n",
    "    player_stats[\"turretKills\"] += stats[\"turretKills\"]  #: 0\n",
    "    player_stats[\"inhibitorKills\"] += stats[\"inhibitorKills\"]  #: 0\n",
    "    # player_stats[\"totalMinionsKilled\"] += stats[\"totalMinionsKilled\"]  #: 93\n",
    "    # player_stats[\"neutralMinionsKilled\"] += stats[\"neutralMinionsKilled\"]  #: 0\n",
    "    # player_stats[\"totalTimeCrowdControlDealt\"] += stats[\"totalTimeCrowdControlDealt\"]  #: 226\n",
    "    player_stats[\"combatPlayerScore\"] += stats[\"combatPlayerScore\"]  #: 0\n",
    "    # player_stats[\"objectivePlayerScore\"] += stats[\"objectivePlayerScore\"]  #: 0\n",
    "    # player_stats[\"totalPlayerScore\"] += stats[\"totalPlayerScore\"]  #: 0\n",
    "    # player_stats[\"totalScoreRank\"] += stats[\"totalScoreRank\"]  #: 0\n",
    "\n",
    "  return player_stats,matches_number"
   ]
  },
  {
   "cell_type": "code",
   "execution_count": 255,
   "metadata": {
    "id": "HLIyw2rlDZae"
   },
   "outputs": [],
   "source": [
    "score,matches_number=getPlayerScore(blue[0],50)"
   ]
  },
  {
   "cell_type": "code",
   "execution_count": 257,
   "metadata": {
    "colab": {
     "base_uri": "https://localhost:8080/"
    },
    "id": "Lvm-Hi53gd1F",
    "outputId": "b1b66908-abea-47ed-f70a-0bfcbce6ee52"
   },
   "outputs": [
    {
     "data": {
      "text/plain": [
       "{'assists': 1101,\n",
       " 'champ_familiarity': 10283.704,\n",
       " 'champ_level': 5,\n",
       " 'champ_points': 64221,\n",
       " 'combatPlayerScore': 0,\n",
       " 'damageDealtToObjectives': 69012,\n",
       " 'damageDealtToTurrets': 69012,\n",
       " 'damageSelfMitigated': 576146,\n",
       " 'deaths': 342,\n",
       " 'doubleKills': 81,\n",
       " 'goldEarned': 660979,\n",
       " 'goldSpent': 589705,\n",
       " 'inhibitorKills': 9,\n",
       " 'killingSprees': 126,\n",
       " 'kills': 483,\n",
       " 'largestCriticalStrike': 11734,\n",
       " 'largestKillingSpree': 157,\n",
       " 'largestMultiKill': 97,\n",
       " 'longestTimeSpentLiving': 12608,\n",
       " 'magicDamageDealt': 1797006,\n",
       " 'magicDamageDealtToChampions': 764429,\n",
       " 'magicalDamageTaken': 485945,\n",
       " 'neutralMinionsKilled': 0,\n",
       " 'objectivePlayerScore': 0,\n",
       " 'pentaKills': 0,\n",
       " 'physicalDamageDealt': 1720381,\n",
       " 'physicalDamageDealtToChampions': 559895,\n",
       " 'physicalDamageTaken': 485504,\n",
       " 'quadraKills': 3,\n",
       " 'timeCCingOthers': 1545,\n",
       " 'totalDamageDealt': 3638687,\n",
       " 'totalDamageDealtToChampions': 1383935,\n",
       " 'totalDamageTaken': 1031273,\n",
       " 'totalHeal': 346157,\n",
       " 'totalMinionsKilled': 2795,\n",
       " 'totalPlayerScore': 0,\n",
       " 'totalScoreRank': 0,\n",
       " 'totalTimeCrowdControlDealt': 8693,\n",
       " 'totalUnitsHealed': 170,\n",
       " 'tripleKills': 14,\n",
       " 'trueDamageDealt': 121256,\n",
       " 'trueDamageDealtToChampions': 59565,\n",
       " 'trueDamageTaken': 59781,\n",
       " 'turretKills': 29,\n",
       " 'unrealKills': 0,\n",
       " 'visionScore': 0,\n",
       " 'wins': 27}"
      ]
     },
     "execution_count": 257,
     "metadata": {
      "tags": []
     },
     "output_type": "execute_result"
    }
   ],
   "source": [
    "score"
   ]
  },
  {
   "cell_type": "code",
   "execution_count": 244,
   "metadata": {
    "colab": {
     "base_uri": "https://localhost:8080/"
    },
    "id": "UjwXJtKEhYMY",
    "outputId": "67a28c68-2c72-4164-a861-47e1e935d38b"
   },
   "outputs": [
    {
     "data": {
      "text/plain": [
       "0.54"
      ]
     },
     "execution_count": 244,
     "metadata": {
      "tags": []
     },
     "output_type": "execute_result"
    }
   ],
   "source": [
    "player_stats[\"wins\"]/matches_number"
   ]
  },
  {
   "cell_type": "code",
   "execution_count": 236,
   "metadata": {
    "colab": {
     "base_uri": "https://localhost:8080/"
    },
    "id": "10gFyEuwb18I",
    "outputId": "f29b5eb4-8771-4862-dea3-6b591803b5a0"
   },
   "outputs": [
    {
     "name": "stdout",
     "output_type": "stream",
     "text": [
      "{\n",
      "  \"wins\": 27,\n",
      "  \"kills\": 483,\n",
      "  \"deaths\": 342,\n",
      "  \"assists\": 1101,\n",
      "  \"largestKillingSpree\": 157,\n",
      "  \"largestMultiKill\": 97,\n",
      "  \"killingSprees\": 126,\n",
      "  \"longestTimeSpentLiving\": 12608,\n",
      "  \"doubleKills\": 81,\n",
      "  \"tripleKills\": 14,\n",
      "  \"quadraKills\": 3,\n",
      "  \"pentaKills\": 0,\n",
      "  \"unrealKills\": 0,\n",
      "  \"totalDamageDealt\": 3638687,\n",
      "  \"magicDamageDealt\": 1797006,\n",
      "  \"physicalDamageDealt\": 1720381,\n",
      "  \"trueDamageDealt\": 121256,\n",
      "  \"largestCriticalStrike\": 11734,\n",
      "  \"totalDamageDealtToChampions\": 1383935,\n",
      "  \"magicDamageDealtToChampions\": 764429,\n",
      "  \"physicalDamageDealtToChampions\": 559895,\n",
      "  \"trueDamageDealtToChampions\": 59565,\n",
      "  \"totalHeal\": 346157,\n",
      "  \"totalUnitsHealed\": 170,\n",
      "  \"damageSelfMitigated\": 576146,\n",
      "  \"damageDealtToObjectives\": 69012,\n",
      "  \"damageDealtToTurrets\": 69012,\n",
      "  \"visionScore\": 0,\n",
      "  \"timeCCingOthers\": 1545,\n",
      "  \"totalDamageTaken\": 1031273,\n",
      "  \"magicalDamageTaken\": 485945,\n",
      "  \"physicalDamageTaken\": 485504,\n",
      "  \"trueDamageTaken\": 59781,\n",
      "  \"goldEarned\": 660979,\n",
      "  \"goldSpent\": 589705,\n",
      "  \"turretKills\": 29,\n",
      "  \"inhibitorKills\": 9,\n",
      "  \"totalMinionsKilled\": 2795,\n",
      "  \"neutralMinionsKilled\": 0,\n",
      "  \"totalTimeCrowdControlDealt\": 8693,\n",
      "  \"champLevel\": 814,\n",
      "  \"combatPlayerScore\": 0,\n",
      "  \"objectivePlayerScore\": 0,\n",
      "  \"totalPlayerScore\": 0,\n",
      "  \"totalScoreRank\": 0\n",
      "}\n"
     ]
    }
   ],
   "source": [
    "print(json.dumps(player_stats,indent=2,sort_keys=False))"
   ]
  },
  {
   "cell_type": "code",
   "execution_count": null,
   "metadata": {
    "id": "tr2snbJ_QvXF"
   },
   "outputs": [],
   "source": []
  }
 ],
 "metadata": {
  "colab": {
   "collapsed_sections": [],
   "name": "Copy of PySpark_Regression_Analysis",
   "provenance": []
  },
  "kernelspec": {
   "display_name": "Python 3",
   "language": "python",
   "name": "python3"
  },
  "language_info": {
   "codemirror_mode": {
    "name": "ipython",
    "version": 3
   },
   "file_extension": ".py",
   "mimetype": "text/x-python",
   "name": "python",
   "nbconvert_exporter": "python",
   "pygments_lexer": "ipython3",
   "version": "3.6.12"
  }
 },
 "nbformat": 4,
 "nbformat_minor": 1
}
